{
 "cells": [
  {
   "cell_type": "markdown",
   "metadata": {},
   "source": [
    "# GX Takes on Contract Classification Project "
   ]
  },
  {
   "cell_type": "markdown",
   "metadata": {},
   "source": [
    "## Task Description"
   ]
  },
  {
   "cell_type": "markdown",
   "metadata": {},
   "source": [
    "Because the dataset was downloaded in week 43,\n",
    "Use the entire training data set as training set, the week 38-43 dataset not uploaded as a testing set(a total of around 10k entries to verify). \n",
    "After updating the latest dataset, SQL query the dataset after PDate."
   ]
  },
  {
   "cell_type": "markdown",
   "metadata": {},
   "source": [
    "Also, can start by categorising is IT and Not-IT to reduce entries. \n",
    "\n",
    "Then only deal with is IT entries, and use a combination of rule based method and ML method to give category and subcategory."
   ]
  },
  {
   "cell_type": "code",
   "execution_count": null,
   "metadata": {
    "collapsed": true
   },
   "outputs": [],
   "source": []
  },
  {
   "cell_type": "markdown",
   "metadata": {},
   "source": [
    "\n",
    "## Featrues description\n",
    "### __File 1: Master Contract Table (the main file we work on) Contains following fields: __\n",
    "\n",
    "__CNID__: identifier.\n",
    "\n",
    "ParentCN: we can at the moment not consider parent contract misclassification and focus on other aspects. – Discard;\n",
    "\n",
    "__Current_Agency_Abbr__: possibly, as a shorter version, can be replaced through idagency.\n",
    "\n",
    "SupplierName: important indicator. Need stemming?\n",
    "\n",
    "PDate; ADate:don’t think matter. Discard\n",
    "\n",
    "Status: don’t matter. Discard\n",
    "\n",
    "SContract, EContract: merge to work out the period. Possibly construct new variable like daily rate to indicate labour hire?\n",
    "ValueContract: value. Can determien SI service (if above 1 MM. can add rule?)\n",
    "\n",
    "Oldstart: \n",
    "Oldvalue: \n",
    "\n",
    "__Title: or the description of the contract. Main analysis tool. The majority can be determined. Maybe focus on this field before moving on to the rest fields.__\n",
    "\n",
    "AgencyRef: ?\n",
    "\n",
    "austender_cat: spscs, can be indexed. – maybe together with agency can yield certain indications? – if someone were to consistently wrongly assign categories.\n",
    "\n",
    "Procmethod: unsure.\n",
    "\n",
    "AtmID: linked to procurement table. – another module to import\n",
    "\n",
    "SonId: linked to panel table, can incorporate in python directly. \n",
    "\n",
    "AmendReason: unsure.\n",
    "\n",
    "ATSupplierName: ?\n",
    "\n",
    "SupplierPostcode: don’t know. Maybe indicates IT like in north sydney? Or use cluster to determine?\n",
    "\n",
    "SupplierABN: maybe link to ABN search? Not important at the moment.\n",
    "\n",
    "Category: Results\n",
    "SubCategory: Results\n",
    "Comment: Results\n",
    "\n",
    "InternalComment: to standardise in the future, include.\n",
    "\n",
    "GAPS ID: unsure;\n",
    "\n",
    "AgencyTier: \n",
    "\n",
    "Original_Agency_Abbr: figure out diff. get rid of one either.\n",
    "\n",
    "__OriginalSupplierName: figure out diff. get rid of one either.__\n",
    "FinYear; FinQuarter; Month; Month Name: can discard.\n",
    "ValueBand: could replace value? Correlated.\n",
    "\n",
    "### __File 2: Discards table.__\n",
    "\n",
    "Gives all the discards/non-ICT contracts. 3-4  times larger than ICT contract set.\n",
    "\n",
    "### __File 3: Supplier table.__\n",
    "\n",
    "use this table to match dirty name against clean name. Clean name is a smaller set can be used to assign Supplier categories.\n",
    "\n",
    "### __File 4: Panel Table. Can give strict rule and change some obvious ones encountered.__\n",
    "\n",
    "Category shows the most likely categories of the contracts. Only a few can indicate explitly the contract type, most indicate ICT/ Non-ICT.\n"
   ]
  },
  {
   "cell_type": "markdown",
   "metadata": {},
   "source": [
    "## Stage 1: Data preprocessing"
   ]
  },
  {
   "cell_type": "markdown",
   "metadata": {},
   "source": [
    "### Step1: Load files necessary"
   ]
  },
  {
   "cell_type": "code",
   "execution_count": 1,
   "metadata": {
    "collapsed": true
   },
   "outputs": [],
   "source": [
    "import sqlite3\n",
    "import numpy as np\n",
    "import pandas as pd\n",
    "import nltk"
   ]
  },
  {
   "cell_type": "code",
   "execution_count": 2,
   "metadata": {
    "collapsed": true
   },
   "outputs": [],
   "source": [
    "contract = pd.read_csv('Contracts.csv') # main contract tabel"
   ]
  },
  {
   "cell_type": "code",
   "execution_count": 3,
   "metadata": {
    "scrolled": false
   },
   "outputs": [
    {
     "data": {
      "text/html": [
       "<div>\n",
       "<style>\n",
       "    .dataframe thead tr:only-child th {\n",
       "        text-align: right;\n",
       "    }\n",
       "\n",
       "    .dataframe thead th {\n",
       "        text-align: left;\n",
       "    }\n",
       "\n",
       "    .dataframe tbody tr th {\n",
       "        vertical-align: top;\n",
       "    }\n",
       "</style>\n",
       "<table border=\"1\" class=\"dataframe\">\n",
       "  <thead>\n",
       "    <tr style=\"text-align: right;\">\n",
       "      <th></th>\n",
       "      <th>CnId</th>\n",
       "      <th>IdAgency</th>\n",
       "      <th>idSupplier</th>\n",
       "      <th>Title</th>\n",
       "      <th>SonId</th>\n",
       "      <th>AtmID</th>\n",
       "      <th>IdCat</th>\n",
       "    </tr>\n",
       "  </thead>\n",
       "  <tbody>\n",
       "    <tr>\n",
       "      <th>0</th>\n",
       "      <td>1045883</td>\n",
       "      <td>55</td>\n",
       "      <td>1204</td>\n",
       "      <td>To provide the service of Senior Unix Administ...</td>\n",
       "      <td>NaN</td>\n",
       "      <td>NaN</td>\n",
       "      <td>13</td>\n",
       "    </tr>\n",
       "    <tr>\n",
       "      <th>1</th>\n",
       "      <td>1119961</td>\n",
       "      <td>62</td>\n",
       "      <td>2409</td>\n",
       "      <td>Provision of IT Specialist Services by Specifi...</td>\n",
       "      <td>NaN</td>\n",
       "      <td>NaN</td>\n",
       "      <td>13</td>\n",
       "    </tr>\n",
       "    <tr>\n",
       "      <th>2</th>\n",
       "      <td>1120021</td>\n",
       "      <td>62</td>\n",
       "      <td>5073</td>\n",
       "      <td>Provision of IT Specialist Services by Specifi...</td>\n",
       "      <td>NaN</td>\n",
       "      <td>NaN</td>\n",
       "      <td>13</td>\n",
       "    </tr>\n",
       "    <tr>\n",
       "      <th>3</th>\n",
       "      <td>1124930</td>\n",
       "      <td>62</td>\n",
       "      <td>4141</td>\n",
       "      <td>Provision of IT Specialist Services by Specifi...</td>\n",
       "      <td>NaN</td>\n",
       "      <td>NaN</td>\n",
       "      <td>13</td>\n",
       "    </tr>\n",
       "    <tr>\n",
       "      <th>4</th>\n",
       "      <td>1125360</td>\n",
       "      <td>122</td>\n",
       "      <td>6094</td>\n",
       "      <td>Payment for services provided Plus additional ...</td>\n",
       "      <td>NaN</td>\n",
       "      <td>NaN</td>\n",
       "      <td>13</td>\n",
       "    </tr>\n",
       "  </tbody>\n",
       "</table>\n",
       "</div>"
      ],
      "text/plain": [
       "      CnId  IdAgency  idSupplier  \\\n",
       "0  1045883        55        1204   \n",
       "1  1119961        62        2409   \n",
       "2  1120021        62        5073   \n",
       "3  1124930        62        4141   \n",
       "4  1125360       122        6094   \n",
       "\n",
       "                                               Title SonId AtmID  IdCat  \n",
       "0  To provide the service of Senior Unix Administ...   NaN   NaN     13  \n",
       "1  Provision of IT Specialist Services by Specifi...   NaN   NaN     13  \n",
       "2  Provision of IT Specialist Services by Specifi...   NaN   NaN     13  \n",
       "3  Provision of IT Specialist Services by Specifi...   NaN   NaN     13  \n",
       "4  Payment for services provided Plus additional ...   NaN   NaN     13  "
      ]
     },
     "execution_count": 3,
     "metadata": {},
     "output_type": "execute_result"
    }
   ],
   "source": [
    "contract.head()"
   ]
  },
  {
   "cell_type": "code",
   "execution_count": 12,
   "metadata": {},
   "outputs": [
    {
     "data": {
      "text/plain": [
       "pandas.core.series.Series"
      ]
     },
     "execution_count": 12,
     "metadata": {},
     "output_type": "execute_result"
    }
   ],
   "source": [
    "title = contract.Title\n",
    "type(title)"
   ]
  },
  {
   "cell_type": "code",
   "execution_count": 5,
   "metadata": {},
   "outputs": [
    {
     "data": {
      "text/plain": [
       "0    To provide the service of Senior Unix Administ...\n",
       "1    Provision of IT Specialist Services by Specifi...\n",
       "2    Provision of IT Specialist Services by Specifi...\n",
       "3    Provision of IT Specialist Services by Specifi...\n",
       "4    Payment for services provided Plus additional ...\n",
       "Name: Title, dtype: object"
      ]
     },
     "execution_count": 5,
     "metadata": {},
     "output_type": "execute_result"
    }
   ],
   "source": [
    "title.head()"
   ]
  },
  {
   "cell_type": "code",
   "execution_count": 15,
   "metadata": {},
   "outputs": [
    {
     "data": {
      "text/plain": [
       "29330     NaN\n",
       "45381     NaN\n",
       "58453     NaN\n",
       "59623     NaN\n",
       "197870    NaN\n",
       "260195    NaN\n",
       "269311    NaN\n",
       "282209    NaN\n",
       "Name: Title, dtype: object"
      ]
     },
     "execution_count": 15,
     "metadata": {},
     "output_type": "execute_result"
    }
   ],
   "source": [
    "title[title.isnull()]"
   ]
  },
  {
   "cell_type": "code",
   "execution_count": 18,
   "metadata": {},
   "outputs": [],
   "source": [
    "title.fillna(value=\"NODesc\",inplace=True)"
   ]
  },
  {
   "cell_type": "code",
   "execution_count": null,
   "metadata": {
    "collapsed": true
   },
   "outputs": [],
   "source": []
  },
  {
   "cell_type": "markdown",
   "metadata": {},
   "source": [
    "### Step2: Apply lemmatizer instead of stemmer due to existence of Technical terms."
   ]
  },
  {
   "cell_type": "code",
   "execution_count": 10,
   "metadata": {
    "collapsed": true
   },
   "outputs": [],
   "source": [
    "# try stemming\n",
    "from nltk.stem.snowball import EnglishStemmer\n",
    "snowball_stemmer = EnglishStemmer()"
   ]
  },
  {
   "cell_type": "code",
   "execution_count": 24,
   "metadata": {},
   "outputs": [
    {
     "data": {
      "text/plain": [
       "pandas.core.frame.DataFrame"
      ]
     },
     "execution_count": 24,
     "metadata": {},
     "output_type": "execute_result"
    }
   ],
   "source": [
    "stemmed = title.apply(snowball_stemmer.stem)\n",
    "# remember to fillna otherwise error, float datatype.?\n",
    "stemmed.head()\n",
    "type(stemmed)"
   ]
  },
  {
   "cell_type": "markdown",
   "metadata": {},
   "source": [
    "The result shows that words are all lowered, which is not what we want."
   ]
  },
  {
   "cell_type": "code",
   "execution_count": 22,
   "metadata": {},
   "outputs": [
    {
     "data": {
      "text/plain": [
       "0    To provide the service of Senior Unix Administ...\n",
       "1    Provision of IT Specialist Services by Specifi...\n",
       "2    Provision of IT Specialist Services by Specifi...\n",
       "3    Provision of IT Specialist Services by Specifi...\n",
       "4    Payment for services provided Plus additional ...\n",
       "Name: Title, dtype: object"
      ]
     },
     "execution_count": 22,
     "metadata": {},
     "output_type": "execute_result"
    }
   ],
   "source": [
    "wnl = nltk.WordNetLemmatizer()\n",
    "lemmed = title.apply(wnl.lemmatize)\n",
    "lemmed.head()"
   ]
  },
  {
   "cell_type": "code",
   "execution_count": 27,
   "metadata": {},
   "outputs": [
    {
     "data": {
      "text/plain": [
       "pandas.core.series.Series"
      ]
     },
     "execution_count": 27,
     "metadata": {},
     "output_type": "execute_result"
    }
   ],
   "source": [
    "type(lemmed)"
   ]
  },
  {
   "cell_type": "code",
   "execution_count": null,
   "metadata": {
    "collapsed": true
   },
   "outputs": [],
   "source": []
  }
 ],
 "metadata": {
  "kernelspec": {
   "display_name": "Python 3",
   "language": "python",
   "name": "python3"
  },
  "language_info": {
   "codemirror_mode": {
    "name": "ipython",
    "version": 3
   },
   "file_extension": ".py",
   "mimetype": "text/x-python",
   "name": "python",
   "nbconvert_exporter": "python",
   "pygments_lexer": "ipython3",
   "version": "3.6.1"
  }
 },
 "nbformat": 4,
 "nbformat_minor": 2
}
