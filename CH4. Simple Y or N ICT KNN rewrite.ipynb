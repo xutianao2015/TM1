{
 "cells": [
  {
   "cell_type": "markdown",
   "metadata": {},
   "source": [
    "> apply KNN on whether contract is ICT.\n",
    "\n",
    "KNN do not need validation set.\n",
    "\n",
    "So need csv containing training set and test set. Also balanced. This is done in CH2.\n",
    "\n",
    "Then we reduce dimension to ensure finding neighbours."
   ]
  },
  {
   "cell_type": "code",
   "execution_count": 1,
   "metadata": {
    "collapsed": true
   },
   "outputs": [],
   "source": [
    "import numpy as np\n",
    "import pandas as pd\n",
    "import sklearn\n",
    "from sklearn.model_selection import train_test_split"
   ]
  },
  {
   "cell_type": "code",
   "execution_count": 2,
   "metadata": {},
   "outputs": [
    {
     "name": "stdout",
     "output_type": "stream",
     "text": [
      "        Cnid                         Description\n",
      "0  CN3339767  development data management system\n",
      "1  CN3419927                    software upgrade\n",
      "2  CN3378926        specialist technical advisor\n",
      "        Cnid  yesIT\n",
      "0  CN3339767      1\n",
      "1  CN3419927      1\n",
      "2  CN3378926      1\n"
     ]
    }
   ],
   "source": [
    "x_trainval = pd.read_csv('x_trainval.csv') # Training and validation dataset.\n",
    "y_trainval = pd.read_csv('y_trainval.csv')\n",
    "print(x_trainval.head(3))\n",
    "print(y_trainval.head(3))"
   ]
  },
  {
   "cell_type": "code",
   "execution_count": 3,
   "metadata": {
    "collapsed": true
   },
   "outputs": [],
   "source": [
    "x_train, x_validate, y_train, y_validate = train_test_split(x_trainval, y_trainval, test_size = 0.3, random_state = 1)"
   ]
  },
  {
   "cell_type": "code",
   "execution_count": 4,
   "metadata": {},
   "outputs": [
    {
     "name": "stdout",
     "output_type": "stream",
     "text": [
      "Type of tfidf: \n",
      "<class 'scipy.sparse.csr.csr_matrix'> \n",
      "\n",
      "Shape of tfidf: \n",
      "(2, 2) \n",
      "\n",
      "['cnid', 'description']\n"
     ]
    }
   ],
   "source": [
    "from sklearn.feature_extraction.text import TfidfVectorizer\n",
    "tfidf_vectorizer = TfidfVectorizer(analyzer='word',ngram_range=(1,2))\n",
    "tfidf = tfidf_vectorizer.fit_transform(x_train)\n",
    "print(\"Type of tfidf: \");  print(type(tfidf),'\\n')\n",
    "print(\"Shape of tfidf: \");  print(tfidf.shape,'\\n')\n",
    "\n",
    "print(tfidf_vectorizer.get_feature_names()[:99])"
   ]
  },
  {
   "cell_type": "code",
   "execution_count": null,
   "metadata": {
    "collapsed": true
   },
   "outputs": [],
   "source": []
  }
 ],
 "metadata": {
  "kernelspec": {
   "display_name": "Python 3",
   "language": "python",
   "name": "python3"
  },
  "language_info": {
   "codemirror_mode": {
    "name": "ipython",
    "version": 3
   },
   "file_extension": ".py",
   "mimetype": "text/x-python",
   "name": "python",
   "nbconvert_exporter": "python",
   "pygments_lexer": "ipython3",
   "version": "3.6.3"
  }
 },
 "nbformat": 4,
 "nbformat_minor": 2
}
