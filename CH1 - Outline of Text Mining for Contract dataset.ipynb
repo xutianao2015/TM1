{
 "cells": [
  {
   "cell_type": "markdown",
   "metadata": {},
   "source": [
    "# GX Takes on Contract Classification Project "
   ]
  },
  {
   "cell_type": "markdown",
   "metadata": {},
   "source": [
    "# Table of Content\n",
    "\n",
    " 1) Description of task and features;\n",
    "\n",
    " 2) Methodology introductions and selections;\n",
    "\n",
    " 3) Data Preprocessing and generic statistics;\n",
    "\n",
    " 4) models"
   ]
  },
  {
   "cell_type": "markdown",
   "metadata": {},
   "source": [
    "## General Task Description"
   ]
  },
  {
   "cell_type": "markdown",
   "metadata": {},
   "source": [
    "Goal: make a system that takes the contract table, gives proper categories and sub-categories and give reasons why give categories."
   ]
  },
  {
   "cell_type": "markdown",
   "metadata": {},
   "source": [
    "To simplify, can start by categorising is IT and Not-IT to reduce entries;\n",
    "\n",
    "Also start by using a limited amount of fields mainly descriptions.\n",
    "\n",
    "After filtering IT contracts, use a combination of rule based method and ML method to give category and subcategory.\n",
    "\n",
    "Finally change formatting to suit table outputs."
   ]
  },
  {
   "cell_type": "markdown",
   "metadata": {},
   "source": [
    "## Featrues description\n",
    "### __File 0: Master Contract Table is the most complete tale__\n",
    "Contains following fields:"
   ]
  },
  {
   "cell_type": "markdown",
   "metadata": {},
   "source": [
    "__CNID__: identifier.\n",
    "\n",
    "ParentCN: we can use SQL procedure beforehand to eliminate some contracts with parents etc. and focus on other aspects. – Discard;\n",
    "\n",
    "Current_Agency_Abbr: possibly, as a shorter version, can be replaced through idagency.\n",
    "\n",
    "__SupplierName: important indicator. in the contracts tables, supplierid and in raw table, supplier name__\n",
    "\n",
    "PDate; ADate:don’t think matter. Discard\n",
    "\n",
    "Status: don’t matter. Discard\n",
    "\n",
    "SContract, EContract: merge to work out the period. Possibly construct new variable like daily rate to indicate labour hire?\n",
    "ValueContract: value. Can determien SI service (if above 1 MM. can add rule?)\n",
    "\n",
    "Oldstart: \n",
    "Oldvalue: \n",
    "\n",
    "__Title: or the description of the contract. Main analysis tool. The majority can be determined. Maybe focus on this field before moving on to the rest fields.__\n",
    "\n",
    "AgencyRef: ?\n",
    "\n",
    "austender_cat: spscs, can be indexed. – maybe together with agency can yield certain indications? – if someone were to consistently wrongly assign categories.\n",
    "\n",
    "Procmethod: unsure. Discard\n",
    "\n",
    "AtmID: linked to procurement table. – another module to import later.\n",
    "\n",
    "SonId: linked to panel table, can incorporate in python directly. \n",
    "\n",
    "AmendReason: Normally change time or value. Discard.\n",
    "\n",
    "ATSupplierName: ?\n",
    "\n",
    "SupplierPostcode: don’t know. Maybe indicates IT like in north sydney? Or use cluster to determine? Discard.\n",
    "\n",
    "SupplierABN: maybe link to ABN search? Not important at the moment. Discard.\n",
    "\n",
    "__Category: Results\n",
    "SubCategory: Results\n",
    "Comment: Results__\n",
    "\n",
    "InternalComment: to standardise in the future, include.\n",
    "\n",
    "GAPS ID: unsure. Discard;\n",
    "\n",
    "AgencyTier: \n",
    "\n",
    "Original_Agency_Abbr: figure out diff. get rid of one either. Discard.\n",
    "\n",
    "__OriginalSupplierName: need similarity measure to match to database supplier with categories. If supplier is a factor considered__\n",
    "\n",
    "FinYear; FinQuarter; Month; Month Name: can discard.\n",
    "ValueBand: could replace value? Correlated."
   ]
  },
  {
   "attachments": {},
   "cell_type": "markdown",
   "metadata": {},
   "source": [
    "### __File 1: contract table (test > view: 3ycontracts)__\n",
    "Contains filtered fields that we use for mining.\n",
    "\n",
    "###   __File 2: Discards table (test > view: 3ydiscards)__\n",
    "\n",
    "Gives all the discards/non-ICT contracts. 3-4  times larger than ICT contract set. We can generate a list of clean company name vs IT/non-ICT from the contract, discard table.\n",
    "\n",
    "### __File 3: Supplier table__\n",
    "\n",
    "use this table to match dirty name against clean name. Clean name is a smaller set can be used to assign Supplier categories.\n",
    "\n",
    "### __File 4: Panel Table. Can give strict rule and change some obvious ones encountered__\n",
    "\n",
    "$Category\\ shows\\ the\\ most\\ likely\\ categories\\ of\\ the\\ contracts.\\ Only\\ a\\ few\\ can\\ indicate\\ explitly\\ the\\ contract\\ type,\\ most\\ indicate\\ ICT \\\\/Non-ICT.$\n",
    "\n",
    "### __File 5: categories. all the categories__\n",
    "Considering the 34 subcategories, it is a good idea to start with categories. join parcat in categories.csv and give them corresponding cate when converting to multiple dimensional results;\n",
    "Non-ICT: if 52, do not change."
   ]
  },
  {
   "cell_type": "markdown",
   "metadata": {
    "collapsed": true
   },
   "source": [
    "# Existing categorisation system limitations"
   ]
  },
  {
   "cell_type": "markdown",
   "metadata": {},
   "source": [
    "Description keyword: \n",
    "Case sensitive.\n",
    "unable to process multiple matches or match those better matches that sits below."
   ]
  },
  {
   "cell_type": "markdown",
   "metadata": {},
   "source": [
    "## Stage 0: Data preprocessing\n",
    "> Due to the different methods uses different data sets, this gives the common processing and produces data that other modules can start with.\n",
    "\n",
    "Common dataset:\n",
    "tokenized lemmatized descriptions for discards, IT contracts; categories tables."
   ]
  },
  {
   "cell_type": "markdown",
   "metadata": {},
   "source": [
    "### Step1: Load files necessary"
   ]
  },
  {
   "cell_type": "markdown",
   "metadata": {},
   "source": [
    "The dataset chosen, due to consideration of computation power and time and the varying quality of contract categorisation, was limited to contracts published within last 3 years.\n",
    "\n",
    "Every year about 20k plus contracts are generated."
   ]
  },
  {
   "cell_type": "code",
   "execution_count": null,
   "metadata": {},
   "outputs": [],
   "source": [
    "import os\n",
    "import sqlite3\n",
    "import numpy as np\n",
    "import pandas as pd"
   ]
  },
  {
   "cell_type": "code",
   "execution_count": null,
   "metadata": {},
   "outputs": [],
   "source": [
    "import nltk\n",
    "import re"
   ]
  },
  {
   "cell_type": "markdown",
   "metadata": {},
   "source": [
    "#### ICT Contracts in the last 3 years"
   ]
  },
  {
   "cell_type": "code",
   "execution_count": null,
   "metadata": {},
   "outputs": [],
   "source": [
    "contract = pd.read_csv('3ycontract.csv') # main contract tabel\n",
    "contract.head()"
   ]
  },
  {
   "cell_type": "markdown",
   "metadata": {},
   "source": [
    "#### discards in the last 3 years."
   ]
  },
  {
   "cell_type": "code",
   "execution_count": null,
   "metadata": {},
   "outputs": [],
   "source": [
    "discards = pd.read_csv('3ydiscards.csv')\n",
    "discards.head()"
   ]
  }
 ],
 "metadata": {
  "kernelspec": {
   "display_name": "Python 3",
   "language": "python",
   "name": "python3"
  },
  "language_info": {
   "codemirror_mode": {
    "name": "ipython",
    "version": 3
   },
   "file_extension": ".py",
   "mimetype": "text/x-python",
   "name": "python",
   "nbconvert_exporter": "python",
   "pygments_lexer": "ipython3",
   "version": "3.6.1"
  }
 },
 "nbformat": 4,
 "nbformat_minor": 2
}
