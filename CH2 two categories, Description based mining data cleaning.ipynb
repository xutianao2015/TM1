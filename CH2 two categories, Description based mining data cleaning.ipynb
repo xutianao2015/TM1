{
 "cells": [
  {
   "cell_type": "markdown",
   "metadata": {},
   "source": [
    "> need to run ch1 to load data.\n",
    "\n",
    "We first distinguish between Discard and ICT contracts. Therefore we first get rid of some Discard to reduce computing load."
   ]
  },
  {
   "cell_type": "code",
   "execution_count": 1,
   "metadata": {
    "collapsed": true
   },
   "outputs": [],
   "source": [
    "import os\n",
    "import sqlite3\n",
    "import numpy as np\n",
    "import pandas as pd\n",
    "import sklearn"
   ]
  },
  {
   "cell_type": "code",
   "execution_count": 2,
   "metadata": {
    "collapsed": true
   },
   "outputs": [],
   "source": [
    "import nltk\n",
    "import re"
   ]
  },
  {
   "cell_type": "code",
   "execution_count": 3,
   "metadata": {},
   "outputs": [
    {
     "data": {
      "text/html": [
       "<div>\n",
       "<style>\n",
       "    .dataframe thead tr:only-child th {\n",
       "        text-align: right;\n",
       "    }\n",
       "\n",
       "    .dataframe thead th {\n",
       "        text-align: left;\n",
       "    }\n",
       "\n",
       "    .dataframe tbody tr th {\n",
       "        vertical-align: top;\n",
       "    }\n",
       "</style>\n",
       "<table border=\"1\" class=\"dataframe\">\n",
       "  <thead>\n",
       "    <tr style=\"text-align: right;\">\n",
       "      <th></th>\n",
       "      <th>Cnid</th>\n",
       "      <th>idSupplier</th>\n",
       "      <th>Title</th>\n",
       "      <th>PDate</th>\n",
       "      <th>austender_cat</th>\n",
       "      <th>austender_supplier</th>\n",
       "      <th>internalcomment</th>\n",
       "      <th>EntityName</th>\n",
       "      <th>IdCat</th>\n",
       "    </tr>\n",
       "  </thead>\n",
       "  <tbody>\n",
       "    <tr>\n",
       "      <th>0</th>\n",
       "      <td>CN1148392</td>\n",
       "      <td>9446</td>\n",
       "      <td>Provision of Web Hosting &amp; Bandwidth Costs</td>\n",
       "      <td>26/05/2016 3:03:00 PM</td>\n",
       "      <td>Components for information technology or broad...</td>\n",
       "      <td>Eye Media Australia Pty Ltd</td>\n",
       "      <td>NaN</td>\n",
       "      <td>EYE MEDIA AUSTRALIA PTY LTD</td>\n",
       "      <td>14</td>\n",
       "    </tr>\n",
       "    <tr>\n",
       "      <th>1</th>\n",
       "      <td>CN2707381</td>\n",
       "      <td>44012</td>\n",
       "      <td>Extension of the iVEC UQ RDSI Existing Disk Ar...</td>\n",
       "      <td>12/08/2015 12:00:00 AM</td>\n",
       "      <td>Components for information technology or broad...</td>\n",
       "      <td>DataDirect Networks</td>\n",
       "      <td>Recovered from Discards; Supplier provides sto...</td>\n",
       "      <td>DDN AUSTRALIA PTY LIMITED</td>\n",
       "      <td>9</td>\n",
       "    </tr>\n",
       "    <tr>\n",
       "      <th>2</th>\n",
       "      <td>CN2745091</td>\n",
       "      <td>9793</td>\n",
       "      <td>IT Professional Services</td>\n",
       "      <td>5/01/2015 10:01:00 AM</td>\n",
       "      <td>Information technology consultation services</td>\n",
       "      <td>Redcore Pty Ltd</td>\n",
       "      <td>NaN</td>\n",
       "      <td>REDCORE PTY LTD</td>\n",
       "      <td>11</td>\n",
       "    </tr>\n",
       "    <tr>\n",
       "      <th>3</th>\n",
       "      <td>CN2748341</td>\n",
       "      <td>6061</td>\n",
       "      <td>ICT Contractors</td>\n",
       "      <td>14/01/2015 11:28:00 AM</td>\n",
       "      <td>Computer services</td>\n",
       "      <td>Southern Cross Computing Pty Ltd</td>\n",
       "      <td>NaN</td>\n",
       "      <td>SOUTHERN CROSS COMPUTING PTY LIMITED</td>\n",
       "      <td>13</td>\n",
       "    </tr>\n",
       "    <tr>\n",
       "      <th>4</th>\n",
       "      <td>CN2748891</td>\n",
       "      <td>21412</td>\n",
       "      <td>ICT Contractors</td>\n",
       "      <td>5/01/2015 11:21:00 AM</td>\n",
       "      <td>Computer services</td>\n",
       "      <td>Horizon Consulting Pty Ltd</td>\n",
       "      <td>NaN</td>\n",
       "      <td>HORIZON CONSULTING PTY LTD</td>\n",
       "      <td>13</td>\n",
       "    </tr>\n",
       "  </tbody>\n",
       "</table>\n",
       "</div>"
      ],
      "text/plain": [
       "        Cnid  idSupplier                                              Title  \\\n",
       "0  CN1148392        9446         Provision of Web Hosting & Bandwidth Costs   \n",
       "1  CN2707381       44012  Extension of the iVEC UQ RDSI Existing Disk Ar...   \n",
       "2  CN2745091        9793                           IT Professional Services   \n",
       "3  CN2748341        6061                                    ICT Contractors   \n",
       "4  CN2748891       21412                                    ICT Contractors   \n",
       "\n",
       "                    PDate                                      austender_cat  \\\n",
       "0   26/05/2016 3:03:00 PM  Components for information technology or broad...   \n",
       "1  12/08/2015 12:00:00 AM  Components for information technology or broad...   \n",
       "2   5/01/2015 10:01:00 AM       Information technology consultation services   \n",
       "3  14/01/2015 11:28:00 AM                                  Computer services   \n",
       "4   5/01/2015 11:21:00 AM                                  Computer services   \n",
       "\n",
       "                 austender_supplier  \\\n",
       "0       Eye Media Australia Pty Ltd   \n",
       "1               DataDirect Networks   \n",
       "2                   Redcore Pty Ltd   \n",
       "3  Southern Cross Computing Pty Ltd   \n",
       "4        Horizon Consulting Pty Ltd   \n",
       "\n",
       "                                     internalcomment  \\\n",
       "0                                                NaN   \n",
       "1  Recovered from Discards; Supplier provides sto...   \n",
       "2                                                NaN   \n",
       "3                                                NaN   \n",
       "4                                                NaN   \n",
       "\n",
       "                             EntityName  IdCat  \n",
       "0           EYE MEDIA AUSTRALIA PTY LTD     14  \n",
       "1             DDN AUSTRALIA PTY LIMITED      9  \n",
       "2                       REDCORE PTY LTD     11  \n",
       "3  SOUTHERN CROSS COMPUTING PTY LIMITED     13  \n",
       "4            HORIZON CONSULTING PTY LTD     13  "
      ]
     },
     "execution_count": 3,
     "metadata": {},
     "output_type": "execute_result"
    }
   ],
   "source": [
    "#### ICT Contracts in the last 3 years\n",
    "contract = pd.read_csv('3ycontract.csv') # main contract tabel\n",
    "(contract.head())"
   ]
  },
  {
   "cell_type": "code",
   "execution_count": 4,
   "metadata": {},
   "outputs": [
    {
     "data": {
      "text/html": [
       "<div>\n",
       "<style>\n",
       "    .dataframe thead tr:only-child th {\n",
       "        text-align: right;\n",
       "    }\n",
       "\n",
       "    .dataframe thead th {\n",
       "        text-align: left;\n",
       "    }\n",
       "\n",
       "    .dataframe tbody tr th {\n",
       "        vertical-align: top;\n",
       "    }\n",
       "</style>\n",
       "<table border=\"1\" class=\"dataframe\">\n",
       "  <thead>\n",
       "    <tr style=\"text-align: right;\">\n",
       "      <th></th>\n",
       "      <th>Cnid</th>\n",
       "      <th>Publish Date</th>\n",
       "      <th>Description</th>\n",
       "      <th>Category</th>\n",
       "      <th>SON ID</th>\n",
       "      <th>Supplier Name</th>\n",
       "      <th>Comment</th>\n",
       "    </tr>\n",
       "  </thead>\n",
       "  <tbody>\n",
       "    <tr>\n",
       "      <th>0</th>\n",
       "      <td>CN1094702</td>\n",
       "      <td>26/05/2016 3:10:00 PM</td>\n",
       "      <td>Provision of Financial Consultancy Services</td>\n",
       "      <td>Accounting services</td>\n",
       "      <td>SON241274</td>\n",
       "      <td>Synergy Group Australia Ltd</td>\n",
       "      <td>NaN</td>\n",
       "    </tr>\n",
       "    <tr>\n",
       "      <th>1</th>\n",
       "      <td>CN1907701</td>\n",
       "      <td>1/02/2016 11:07:00 AM</td>\n",
       "      <td>Internal Audit</td>\n",
       "      <td>Audit services</td>\n",
       "      <td>NaN</td>\n",
       "      <td>Moore Stephens</td>\n",
       "      <td>NaN</td>\n",
       "    </tr>\n",
       "    <tr>\n",
       "      <th>2</th>\n",
       "      <td>CN2032461</td>\n",
       "      <td>26/05/2016 2:25:00 PM</td>\n",
       "      <td>Registar Liaison Officer</td>\n",
       "      <td>Temporary personnel services</td>\n",
       "      <td>NaN</td>\n",
       "      <td>Attorney General's Department CPM</td>\n",
       "      <td>NaN</td>\n",
       "    </tr>\n",
       "    <tr>\n",
       "      <th>3</th>\n",
       "      <td>CN2439052</td>\n",
       "      <td>12/02/2015 10:19:00 AM</td>\n",
       "      <td>Printing and Distribution 2014</td>\n",
       "      <td>Printing</td>\n",
       "      <td>NaN</td>\n",
       "      <td>CanPrint Communications Pty Ltd</td>\n",
       "      <td>NaN</td>\n",
       "    </tr>\n",
       "    <tr>\n",
       "      <th>4</th>\n",
       "      <td>CN2542831</td>\n",
       "      <td>25/03/2015 11:38:00 AM</td>\n",
       "      <td>Management Services</td>\n",
       "      <td>Management support services</td>\n",
       "      <td>SON1180562</td>\n",
       "      <td>DFP Recruitment Services Pty Ltd</td>\n",
       "      <td>NaN</td>\n",
       "    </tr>\n",
       "  </tbody>\n",
       "</table>\n",
       "</div>"
      ],
      "text/plain": [
       "        Cnid            Publish Date  \\\n",
       "0  CN1094702   26/05/2016 3:10:00 PM   \n",
       "1  CN1907701   1/02/2016 11:07:00 AM   \n",
       "2  CN2032461   26/05/2016 2:25:00 PM   \n",
       "3  CN2439052  12/02/2015 10:19:00 AM   \n",
       "4  CN2542831  25/03/2015 11:38:00 AM   \n",
       "\n",
       "                                     Description  \\\n",
       "0   Provision of Financial Consultancy Services    \n",
       "1                                Internal Audit    \n",
       "2                      Registar Liaison Officer    \n",
       "3                 Printing and Distribution 2014   \n",
       "4                            Management Services   \n",
       "\n",
       "                       Category      SON ID  \\\n",
       "0           Accounting services   SON241274   \n",
       "1                Audit services         NaN   \n",
       "2  Temporary personnel services         NaN   \n",
       "3                      Printing         NaN   \n",
       "4   Management support services  SON1180562   \n",
       "\n",
       "                       Supplier Name Comment  \n",
       "0        Synergy Group Australia Ltd     NaN  \n",
       "1                     Moore Stephens     NaN  \n",
       "2  Attorney General's Department CPM     NaN  \n",
       "3    CanPrint Communications Pty Ltd     NaN  \n",
       "4   DFP Recruitment Services Pty Ltd     NaN  "
      ]
     },
     "execution_count": 4,
     "metadata": {},
     "output_type": "execute_result"
    }
   ],
   "source": [
    "#### discards in the last 3 years.\n",
    "discards = pd.read_csv('3ydiscards.csv')\n",
    "(discards.head())"
   ]
  },
  {
   "cell_type": "markdown",
   "metadata": {},
   "source": [
    "# Stage 2: Modeling fitting description based model.\n",
    "We assume that Master contract match and ICT supplier categorisation is reliable.\n",
    "We start from modelling descriptions.\n",
    "#### Extract useful columns"
   ]
  },
  {
   "cell_type": "code",
   "execution_count": 5,
   "metadata": {
    "collapsed": true
   },
   "outputs": [],
   "source": [
    "# contract\n",
    "contract_des = contract[['Cnid','Title','IdCat']]"
   ]
  },
  {
   "cell_type": "code",
   "execution_count": 6,
   "metadata": {},
   "outputs": [
    {
     "data": {
      "text/html": [
       "<div>\n",
       "<style>\n",
       "    .dataframe thead tr:only-child th {\n",
       "        text-align: right;\n",
       "    }\n",
       "\n",
       "    .dataframe thead th {\n",
       "        text-align: left;\n",
       "    }\n",
       "\n",
       "    .dataframe tbody tr th {\n",
       "        vertical-align: top;\n",
       "    }\n",
       "</style>\n",
       "<table border=\"1\" class=\"dataframe\">\n",
       "  <thead>\n",
       "    <tr style=\"text-align: right;\">\n",
       "      <th></th>\n",
       "      <th>Cnid</th>\n",
       "      <th>Description</th>\n",
       "      <th>idCat</th>\n",
       "    </tr>\n",
       "  </thead>\n",
       "  <tbody>\n",
       "    <tr>\n",
       "      <th>0</th>\n",
       "      <td>CN1148392</td>\n",
       "      <td>Provision of Web Hosting &amp; Bandwidth Costs</td>\n",
       "      <td>14</td>\n",
       "    </tr>\n",
       "    <tr>\n",
       "      <th>1</th>\n",
       "      <td>CN2707381</td>\n",
       "      <td>Extension of the iVEC UQ RDSI Existing Disk Ar...</td>\n",
       "      <td>9</td>\n",
       "    </tr>\n",
       "    <tr>\n",
       "      <th>2</th>\n",
       "      <td>CN2745091</td>\n",
       "      <td>IT Professional Services</td>\n",
       "      <td>11</td>\n",
       "    </tr>\n",
       "    <tr>\n",
       "      <th>3</th>\n",
       "      <td>CN2748341</td>\n",
       "      <td>ICT Contractors</td>\n",
       "      <td>13</td>\n",
       "    </tr>\n",
       "    <tr>\n",
       "      <th>4</th>\n",
       "      <td>CN2748891</td>\n",
       "      <td>ICT Contractors</td>\n",
       "      <td>13</td>\n",
       "    </tr>\n",
       "  </tbody>\n",
       "</table>\n",
       "</div>"
      ],
      "text/plain": [
       "        Cnid                                        Description  idCat\n",
       "0  CN1148392         Provision of Web Hosting & Bandwidth Costs     14\n",
       "1  CN2707381  Extension of the iVEC UQ RDSI Existing Disk Ar...      9\n",
       "2  CN2745091                           IT Professional Services     11\n",
       "3  CN2748341                                    ICT Contractors     13\n",
       "4  CN2748891                                    ICT Contractors     13"
      ]
     },
     "execution_count": 6,
     "metadata": {},
     "output_type": "execute_result"
    }
   ],
   "source": [
    "contract_des.columns=['Cnid','Description','idCat']\n",
    "contract_des.head()"
   ]
  },
  {
   "cell_type": "markdown",
   "metadata": {},
   "source": [
    "#### Handle empty contract field to avoid error in later steps."
   ]
  },
  {
   "cell_type": "code",
   "execution_count": 7,
   "metadata": {},
   "outputs": [
    {
     "data": {
      "text/html": [
       "<div>\n",
       "<style>\n",
       "    .dataframe thead tr:only-child th {\n",
       "        text-align: right;\n",
       "    }\n",
       "\n",
       "    .dataframe thead th {\n",
       "        text-align: left;\n",
       "    }\n",
       "\n",
       "    .dataframe tbody tr th {\n",
       "        vertical-align: top;\n",
       "    }\n",
       "</style>\n",
       "<table border=\"1\" class=\"dataframe\">\n",
       "  <thead>\n",
       "    <tr style=\"text-align: right;\">\n",
       "      <th></th>\n",
       "      <th>Cnid</th>\n",
       "      <th>Description</th>\n",
       "      <th>idCat</th>\n",
       "    </tr>\n",
       "  </thead>\n",
       "  <tbody>\n",
       "    <tr>\n",
       "      <th>0</th>\n",
       "      <td>CN1148392</td>\n",
       "      <td>Provision of Web Hosting &amp; Bandwidth Costs</td>\n",
       "      <td>14</td>\n",
       "    </tr>\n",
       "    <tr>\n",
       "      <th>1</th>\n",
       "      <td>CN2707381</td>\n",
       "      <td>Extension of the iVEC UQ RDSI Existing Disk Ar...</td>\n",
       "      <td>9</td>\n",
       "    </tr>\n",
       "    <tr>\n",
       "      <th>2</th>\n",
       "      <td>CN2745091</td>\n",
       "      <td>IT Professional Services</td>\n",
       "      <td>11</td>\n",
       "    </tr>\n",
       "    <tr>\n",
       "      <th>3</th>\n",
       "      <td>CN2748341</td>\n",
       "      <td>ICT Contractors</td>\n",
       "      <td>13</td>\n",
       "    </tr>\n",
       "    <tr>\n",
       "      <th>4</th>\n",
       "      <td>CN2748891</td>\n",
       "      <td>ICT Contractors</td>\n",
       "      <td>13</td>\n",
       "    </tr>\n",
       "  </tbody>\n",
       "</table>\n",
       "</div>"
      ],
      "text/plain": [
       "        Cnid                                        Description  idCat\n",
       "0  CN1148392         Provision of Web Hosting & Bandwidth Costs     14\n",
       "1  CN2707381  Extension of the iVEC UQ RDSI Existing Disk Ar...      9\n",
       "2  CN2745091                           IT Professional Services     11\n",
       "3  CN2748341                                    ICT Contractors     13\n",
       "4  CN2748891                                    ICT Contractors     13"
      ]
     },
     "execution_count": 7,
     "metadata": {},
     "output_type": "execute_result"
    }
   ],
   "source": [
    "contract_des[contract_des.Description.isnull()]\n",
    "contract_des[~(contract_des.Description).isnull()].head()"
   ]
  },
  {
   "cell_type": "code",
   "execution_count": 8,
   "metadata": {
    "collapsed": true
   },
   "outputs": [],
   "source": [
    "contract_des = contract_des[~(contract_des.Description).isnull()] "
   ]
  },
  {
   "cell_type": "code",
   "execution_count": 9,
   "metadata": {
    "collapsed": true,
    "scrolled": true
   },
   "outputs": [],
   "source": [
    "# contract_des.fillna(value=\"NODesc\",inplace=True) # alternatively fillna."
   ]
  },
  {
   "cell_type": "code",
   "execution_count": 10,
   "metadata": {},
   "outputs": [
    {
     "data": {
      "text/plain": [
       "55701"
      ]
     },
     "execution_count": 10,
     "metadata": {},
     "output_type": "execute_result"
    }
   ],
   "source": [
    "len(contract_des) # 55701 raw ICT contracts in total."
   ]
  },
  {
   "cell_type": "code",
   "execution_count": 11,
   "metadata": {},
   "outputs": [
    {
     "data": {
      "text/html": [
       "<div>\n",
       "<style>\n",
       "    .dataframe thead tr:only-child th {\n",
       "        text-align: right;\n",
       "    }\n",
       "\n",
       "    .dataframe thead th {\n",
       "        text-align: left;\n",
       "    }\n",
       "\n",
       "    .dataframe tbody tr th {\n",
       "        vertical-align: top;\n",
       "    }\n",
       "</style>\n",
       "<table border=\"1\" class=\"dataframe\">\n",
       "  <thead>\n",
       "    <tr style=\"text-align: right;\">\n",
       "      <th></th>\n",
       "      <th>Cnid</th>\n",
       "      <th>Description</th>\n",
       "    </tr>\n",
       "  </thead>\n",
       "  <tbody>\n",
       "    <tr>\n",
       "      <th>70659</th>\n",
       "      <td>CN3328465</td>\n",
       "      <td>NaN</td>\n",
       "    </tr>\n",
       "    <tr>\n",
       "      <th>91960</th>\n",
       "      <td>CN3360215</td>\n",
       "      <td>NaN</td>\n",
       "    </tr>\n",
       "  </tbody>\n",
       "</table>\n",
       "</div>"
      ],
      "text/plain": [
       "            Cnid Description\n",
       "70659  CN3328465         NaN\n",
       "91960  CN3360215         NaN"
      ]
     },
     "execution_count": 11,
     "metadata": {},
     "output_type": "execute_result"
    }
   ],
   "source": [
    "discards_des =discards[['Cnid','Description']]\n",
    "discards_des[discards_des.Description.isnull()]"
   ]
  },
  {
   "cell_type": "code",
   "execution_count": 12,
   "metadata": {},
   "outputs": [
    {
     "name": "stderr",
     "output_type": "stream",
     "text": [
      "C:\\Anaconda3\\lib\\site-packages\\pandas\\core\\frame.py:2754: SettingWithCopyWarning: \n",
      "A value is trying to be set on a copy of a slice from a DataFrame\n",
      "\n",
      "See the caveats in the documentation: http://pandas.pydata.org/pandas-docs/stable/indexing.html#indexing-view-versus-copy\n",
      "  downcast=downcast, **kwargs)\n"
     ]
    },
    {
     "data": {
      "text/plain": [
       "155371"
      ]
     },
     "execution_count": 12,
     "metadata": {},
     "output_type": "execute_result"
    }
   ],
   "source": [
    "discards_des.fillna(value=\"NODesc\",inplace=True) # remember to fillna otherwise it would cause errors in the code below.\n",
    "discards_des.head()\n",
    "len(discards_des)  # 3 times the amount of IT contract.\n",
    "# categories can fillna after wards when joined with contracts when needed."
   ]
  },
  {
   "cell_type": "markdown",
   "metadata": {},
   "source": [
    "Give discards category of 99"
   ]
  },
  {
   "cell_type": "code",
   "execution_count": 13,
   "metadata": {
    "collapsed": true
   },
   "outputs": [],
   "source": [
    "idDis = pd.Series(np.ones(len(discards_des)))\n",
    "discards_des = pd.concat([discards_des,idDis],axis=1,ignore_index=True)"
   ]
  },
  {
   "cell_type": "code",
   "execution_count": 14,
   "metadata": {},
   "outputs": [
    {
     "data": {
      "text/html": [
       "<div>\n",
       "<style>\n",
       "    .dataframe thead tr:only-child th {\n",
       "        text-align: right;\n",
       "    }\n",
       "\n",
       "    .dataframe thead th {\n",
       "        text-align: left;\n",
       "    }\n",
       "\n",
       "    .dataframe tbody tr th {\n",
       "        vertical-align: top;\n",
       "    }\n",
       "</style>\n",
       "<table border=\"1\" class=\"dataframe\">\n",
       "  <thead>\n",
       "    <tr style=\"text-align: right;\">\n",
       "      <th></th>\n",
       "      <th>Cnid</th>\n",
       "      <th>Description</th>\n",
       "      <th>idCat</th>\n",
       "    </tr>\n",
       "  </thead>\n",
       "  <tbody>\n",
       "    <tr>\n",
       "      <th>0</th>\n",
       "      <td>CN1094702</td>\n",
       "      <td>Provision of Financial Consultancy Services</td>\n",
       "      <td>99</td>\n",
       "    </tr>\n",
       "    <tr>\n",
       "      <th>1</th>\n",
       "      <td>CN1907701</td>\n",
       "      <td>Internal Audit</td>\n",
       "      <td>99</td>\n",
       "    </tr>\n",
       "    <tr>\n",
       "      <th>2</th>\n",
       "      <td>CN2032461</td>\n",
       "      <td>Registar Liaison Officer</td>\n",
       "      <td>99</td>\n",
       "    </tr>\n",
       "    <tr>\n",
       "      <th>3</th>\n",
       "      <td>CN2439052</td>\n",
       "      <td>Printing and Distribution 2014</td>\n",
       "      <td>99</td>\n",
       "    </tr>\n",
       "    <tr>\n",
       "      <th>4</th>\n",
       "      <td>CN2542831</td>\n",
       "      <td>Management Services</td>\n",
       "      <td>99</td>\n",
       "    </tr>\n",
       "  </tbody>\n",
       "</table>\n",
       "</div>"
      ],
      "text/plain": [
       "        Cnid                                    Description  idCat\n",
       "0  CN1094702   Provision of Financial Consultancy Services      99\n",
       "1  CN1907701                                Internal Audit      99\n",
       "2  CN2032461                      Registar Liaison Officer      99\n",
       "3  CN2439052                 Printing and Distribution 2014     99\n",
       "4  CN2542831                            Management Services     99"
      ]
     },
     "execution_count": 14,
     "metadata": {},
     "output_type": "execute_result"
    }
   ],
   "source": [
    "discards_des.columns= ['Cnid','Description','idCat']\n",
    "discards_des.idCat = 99\n",
    "discards_des.head()"
   ]
  },
  {
   "cell_type": "code",
   "execution_count": 15,
   "metadata": {
    "collapsed": true
   },
   "outputs": [],
   "source": [
    "# Balance train test set by downsampling discards.\n",
    "from sklearn.utils import resample"
   ]
  },
  {
   "cell_type": "code",
   "execution_count": 16,
   "metadata": {
    "collapsed": true
   },
   "outputs": [],
   "source": [
    "discards_des2 = resample(discards_des, \n",
    "                                 replace=False,    # sample without replacement\n",
    "                                 n_samples=55701,     # to match minority class\n",
    "                                 random_state=123) # reproducible results"
   ]
  },
  {
   "cell_type": "code",
   "execution_count": 17,
   "metadata": {},
   "outputs": [
    {
     "data": {
      "text/plain": [
       "155371"
      ]
     },
     "execution_count": 17,
     "metadata": {},
     "output_type": "execute_result"
    }
   ],
   "source": [
    "len(discards_des)"
   ]
  },
  {
   "cell_type": "code",
   "execution_count": 18,
   "metadata": {},
   "outputs": [
    {
     "data": {
      "text/plain": [
       "55701"
      ]
     },
     "execution_count": 18,
     "metadata": {},
     "output_type": "execute_result"
    }
   ],
   "source": [
    "len(discards_des2)"
   ]
  },
  {
   "cell_type": "markdown",
   "metadata": {},
   "source": [
    "### make train test set for each.\n",
    "Separate df into 20% and rest. So is discards"
   ]
  },
  {
   "cell_type": "code",
   "execution_count": 19,
   "metadata": {
    "collapsed": true
   },
   "outputs": [],
   "source": [
    "# need to import sub packages explicitly\n",
    "from sklearn import model_selection"
   ]
  },
  {
   "cell_type": "code",
   "execution_count": 20,
   "metadata": {
    "collapsed": true
   },
   "outputs": [],
   "source": [
    "contract_train,contract_test = sklearn.model_selection.train_test_split(contract_des,test_size=0.2, random_state=1)"
   ]
  },
  {
   "cell_type": "code",
   "execution_count": 21,
   "metadata": {
    "collapsed": true
   },
   "outputs": [],
   "source": [
    "discards_train,discards_test = sklearn.model_selection.train_test_split(discards_des2,test_size=0.2, random_state=1)"
   ]
  },
  {
   "cell_type": "markdown",
   "metadata": {},
   "source": [
    "__When description only method, join two dataframes into one for both contract and discards. __"
   ]
  },
  {
   "cell_type": "code",
   "execution_count": 22,
   "metadata": {},
   "outputs": [
    {
     "data": {
      "text/html": [
       "<div>\n",
       "<style>\n",
       "    .dataframe thead tr:only-child th {\n",
       "        text-align: right;\n",
       "    }\n",
       "\n",
       "    .dataframe thead th {\n",
       "        text-align: left;\n",
       "    }\n",
       "\n",
       "    .dataframe tbody tr th {\n",
       "        vertical-align: top;\n",
       "    }\n",
       "</style>\n",
       "<table border=\"1\" class=\"dataframe\">\n",
       "  <thead>\n",
       "    <tr style=\"text-align: right;\">\n",
       "      <th></th>\n",
       "      <th>Cnid</th>\n",
       "      <th>Description</th>\n",
       "      <th>idCat</th>\n",
       "    </tr>\n",
       "  </thead>\n",
       "  <tbody>\n",
       "    <tr>\n",
       "      <th>0</th>\n",
       "      <td>CN3339767</td>\n",
       "      <td>Development of Data Management System</td>\n",
       "      <td>17</td>\n",
       "    </tr>\n",
       "    <tr>\n",
       "      <th>1</th>\n",
       "      <td>CN3419927</td>\n",
       "      <td>Software Upgrade</td>\n",
       "      <td>17</td>\n",
       "    </tr>\n",
       "    <tr>\n",
       "      <th>2</th>\n",
       "      <td>CN3378926</td>\n",
       "      <td>Specialist Technical Advisor</td>\n",
       "      <td>11</td>\n",
       "    </tr>\n",
       "    <tr>\n",
       "      <th>3</th>\n",
       "      <td>CN3432035</td>\n",
       "      <td>DVA ICTSB 2016/157 - System Analyst - ICT Plan...</td>\n",
       "      <td>13</td>\n",
       "    </tr>\n",
       "    <tr>\n",
       "      <th>4</th>\n",
       "      <td>CN3295947</td>\n",
       "      <td>ICT Services</td>\n",
       "      <td>17</td>\n",
       "    </tr>\n",
       "  </tbody>\n",
       "</table>\n",
       "</div>"
      ],
      "text/plain": [
       "        Cnid                                        Description  idCat\n",
       "0  CN3339767              Development of Data Management System     17\n",
       "1  CN3419927                                   Software Upgrade     17\n",
       "2  CN3378926                       Specialist Technical Advisor     11\n",
       "3  CN3432035  DVA ICTSB 2016/157 - System Analyst - ICT Plan...     13\n",
       "4  CN3295947                                       ICT Services     17"
      ]
     },
     "execution_count": 22,
     "metadata": {},
     "output_type": "execute_result"
    }
   ],
   "source": [
    "df_train = pd.concat([contract_train,discards_train],join='outer',ignore_index=True)\n",
    "df_train.head()"
   ]
  },
  {
   "cell_type": "code",
   "execution_count": 23,
   "metadata": {
    "scrolled": true
   },
   "outputs": [
    {
     "data": {
      "text/plain": [
       "99    44560\n",
       "13    14280\n",
       "17     4636\n",
       "18     3266\n",
       "7      2385\n",
       "11     2328\n",
       "14     1883\n",
       "28     1778\n",
       "15     1440\n",
       "6      1034\n",
       "31      909\n",
       "1       849\n",
       "19      848\n",
       "12      734\n",
       "34      713\n",
       "52      673\n",
       "5       628\n",
       "8       548\n",
       "40      501\n",
       "21      489\n",
       "4       449\n",
       "32      443\n",
       "29      427\n",
       "9       418\n",
       "33      389\n",
       "43      388\n",
       "30      349\n",
       "27      303\n",
       "37      289\n",
       "42      285\n",
       "22      242\n",
       "20      238\n",
       "25      187\n",
       "44      144\n",
       "36       87\n",
       "Name: idCat, dtype: int64"
      ]
     },
     "execution_count": 23,
     "metadata": {},
     "output_type": "execute_result"
    }
   ],
   "source": [
    "df_train[\"idCat\"].value_counts()"
   ]
  },
  {
   "cell_type": "code",
   "execution_count": 24,
   "metadata": {},
   "outputs": [
    {
     "data": {
      "text/plain": [
       "55700.0"
      ]
     },
     "execution_count": 24,
     "metadata": {},
     "output_type": "execute_result"
    }
   ],
   "source": [
    "len(df_train)/2*1.25"
   ]
  },
  {
   "cell_type": "code",
   "execution_count": 25,
   "metadata": {
    "collapsed": true
   },
   "outputs": [],
   "source": [
    "df_train.to_csv(\"df_train.csv\")"
   ]
  },
  {
   "cell_type": "code",
   "execution_count": 26,
   "metadata": {
    "collapsed": true
   },
   "outputs": [],
   "source": [
    "df_test = pd.concat([contract_test,discards_test],join='outer',ignore_index=True)\n",
    "df_test.head()\n",
    "df_test.index = df_test['Cnid']\n",
    "df_test.drop(['Cnid'],axis=1,inplace=True)"
   ]
  },
  {
   "cell_type": "code",
   "execution_count": 27,
   "metadata": {
    "scrolled": false
   },
   "outputs": [
    {
     "data": {
      "text/html": [
       "<div>\n",
       "<style>\n",
       "    .dataframe thead tr:only-child th {\n",
       "        text-align: right;\n",
       "    }\n",
       "\n",
       "    .dataframe thead th {\n",
       "        text-align: left;\n",
       "    }\n",
       "\n",
       "    .dataframe tbody tr th {\n",
       "        vertical-align: top;\n",
       "    }\n",
       "</style>\n",
       "<table border=\"1\" class=\"dataframe\">\n",
       "  <thead>\n",
       "    <tr style=\"text-align: right;\">\n",
       "      <th></th>\n",
       "      <th>Description</th>\n",
       "      <th>idCat</th>\n",
       "    </tr>\n",
       "    <tr>\n",
       "      <th>Cnid</th>\n",
       "      <th></th>\n",
       "      <th></th>\n",
       "    </tr>\n",
       "  </thead>\n",
       "  <tbody>\n",
       "    <tr>\n",
       "      <th>CN3348181</th>\n",
       "      <td>Program Management Services</td>\n",
       "      <td>17</td>\n",
       "    </tr>\n",
       "    <tr>\n",
       "      <th>CN3110212</th>\n",
       "      <td>Distributed Computing Central Services</td>\n",
       "      <td>14</td>\n",
       "    </tr>\n",
       "    <tr>\n",
       "      <th>CN3442793</th>\n",
       "      <td>Automated Test Engineer</td>\n",
       "      <td>13</td>\n",
       "    </tr>\n",
       "    <tr>\n",
       "      <th>CN3422590</th>\n",
       "      <td>Software Services</td>\n",
       "      <td>28</td>\n",
       "    </tr>\n",
       "    <tr>\n",
       "      <th>CN3428960</th>\n",
       "      <td>VC System</td>\n",
       "      <td>43</td>\n",
       "    </tr>\n",
       "  </tbody>\n",
       "</table>\n",
       "</div>"
      ],
      "text/plain": [
       "                                      Description  idCat\n",
       "Cnid                                                    \n",
       "CN3348181             Program Management Services     17\n",
       "CN3110212  Distributed Computing Central Services     14\n",
       "CN3442793                 Automated Test Engineer     13\n",
       "CN3422590                       Software Services     28\n",
       "CN3428960                               VC System     43"
      ]
     },
     "execution_count": 27,
     "metadata": {},
     "output_type": "execute_result"
    }
   ],
   "source": [
    "df_test.head()"
   ]
  },
  {
   "cell_type": "markdown",
   "metadata": {},
   "source": [
    "### Change to two categories: Insert one more column,if category is not 99 or 52, IT. \n",
    "Note: The reason categorise yetIT here instead of before spliting into training test set is due to consideration of other multi class scenarios."
   ]
  },
  {
   "cell_type": "code",
   "execution_count": 28,
   "metadata": {
    "collapsed": true
   },
   "outputs": [],
   "source": [
    "df_train.insert(loc=2,column='yesIT',value= 1)"
   ]
  },
  {
   "cell_type": "code",
   "execution_count": 29,
   "metadata": {},
   "outputs": [
    {
     "data": {
      "text/plain": [
       "4"
      ]
     },
     "execution_count": 29,
     "metadata": {},
     "output_type": "execute_result"
    }
   ],
   "source": [
    "len(df_train.columns)"
   ]
  },
  {
   "cell_type": "code",
   "execution_count": 30,
   "metadata": {
    "collapsed": true
   },
   "outputs": [],
   "source": [
    "df_test.insert(loc=2,column='yesIT',value= 1)"
   ]
  },
  {
   "cell_type": "code",
   "execution_count": 31,
   "metadata": {},
   "outputs": [
    {
     "data": {
      "text/html": [
       "<div>\n",
       "<style>\n",
       "    .dataframe thead tr:only-child th {\n",
       "        text-align: right;\n",
       "    }\n",
       "\n",
       "    .dataframe thead th {\n",
       "        text-align: left;\n",
       "    }\n",
       "\n",
       "    .dataframe tbody tr th {\n",
       "        vertical-align: top;\n",
       "    }\n",
       "</style>\n",
       "<table border=\"1\" class=\"dataframe\">\n",
       "  <thead>\n",
       "    <tr style=\"text-align: right;\">\n",
       "      <th></th>\n",
       "      <th>Cnid</th>\n",
       "      <th>Description</th>\n",
       "      <th>yesIT</th>\n",
       "      <th>idCat</th>\n",
       "    </tr>\n",
       "  </thead>\n",
       "  <tbody>\n",
       "    <tr>\n",
       "      <th>0</th>\n",
       "      <td>CN3339767</td>\n",
       "      <td>Development of Data Management System</td>\n",
       "      <td>1</td>\n",
       "      <td>17</td>\n",
       "    </tr>\n",
       "    <tr>\n",
       "      <th>1</th>\n",
       "      <td>CN3419927</td>\n",
       "      <td>Software Upgrade</td>\n",
       "      <td>1</td>\n",
       "      <td>17</td>\n",
       "    </tr>\n",
       "    <tr>\n",
       "      <th>2</th>\n",
       "      <td>CN3378926</td>\n",
       "      <td>Specialist Technical Advisor</td>\n",
       "      <td>1</td>\n",
       "      <td>11</td>\n",
       "    </tr>\n",
       "    <tr>\n",
       "      <th>3</th>\n",
       "      <td>CN3432035</td>\n",
       "      <td>DVA ICTSB 2016/157 - System Analyst - ICT Plan...</td>\n",
       "      <td>1</td>\n",
       "      <td>13</td>\n",
       "    </tr>\n",
       "    <tr>\n",
       "      <th>4</th>\n",
       "      <td>CN3295947</td>\n",
       "      <td>ICT Services</td>\n",
       "      <td>1</td>\n",
       "      <td>17</td>\n",
       "    </tr>\n",
       "  </tbody>\n",
       "</table>\n",
       "</div>"
      ],
      "text/plain": [
       "        Cnid                                        Description  yesIT  idCat\n",
       "0  CN3339767              Development of Data Management System      1     17\n",
       "1  CN3419927                                   Software Upgrade      1     17\n",
       "2  CN3378926                       Specialist Technical Advisor      1     11\n",
       "3  CN3432035  DVA ICTSB 2016/157 - System Analyst - ICT Plan...      1     13\n",
       "4  CN3295947                                       ICT Services      1     17"
      ]
     },
     "execution_count": 31,
     "metadata": {},
     "output_type": "execute_result"
    }
   ],
   "source": [
    "df_train.head()"
   ]
  },
  {
   "cell_type": "code",
   "execution_count": 32,
   "metadata": {},
   "outputs": [
    {
     "data": {
      "text/html": [
       "<div>\n",
       "<style>\n",
       "    .dataframe thead tr:only-child th {\n",
       "        text-align: right;\n",
       "    }\n",
       "\n",
       "    .dataframe thead th {\n",
       "        text-align: left;\n",
       "    }\n",
       "\n",
       "    .dataframe tbody tr th {\n",
       "        vertical-align: top;\n",
       "    }\n",
       "</style>\n",
       "<table border=\"1\" class=\"dataframe\">\n",
       "  <thead>\n",
       "    <tr style=\"text-align: right;\">\n",
       "      <th></th>\n",
       "      <th>Description</th>\n",
       "      <th>idCat</th>\n",
       "      <th>yesIT</th>\n",
       "    </tr>\n",
       "    <tr>\n",
       "      <th>Cnid</th>\n",
       "      <th></th>\n",
       "      <th></th>\n",
       "      <th></th>\n",
       "    </tr>\n",
       "  </thead>\n",
       "  <tbody>\n",
       "    <tr>\n",
       "      <th>CN3348181</th>\n",
       "      <td>Program Management Services</td>\n",
       "      <td>17</td>\n",
       "      <td>1</td>\n",
       "    </tr>\n",
       "    <tr>\n",
       "      <th>CN3110212</th>\n",
       "      <td>Distributed Computing Central Services</td>\n",
       "      <td>14</td>\n",
       "      <td>1</td>\n",
       "    </tr>\n",
       "    <tr>\n",
       "      <th>CN3442793</th>\n",
       "      <td>Automated Test Engineer</td>\n",
       "      <td>13</td>\n",
       "      <td>1</td>\n",
       "    </tr>\n",
       "    <tr>\n",
       "      <th>CN3422590</th>\n",
       "      <td>Software Services</td>\n",
       "      <td>28</td>\n",
       "      <td>1</td>\n",
       "    </tr>\n",
       "    <tr>\n",
       "      <th>CN3428960</th>\n",
       "      <td>VC System</td>\n",
       "      <td>43</td>\n",
       "      <td>1</td>\n",
       "    </tr>\n",
       "  </tbody>\n",
       "</table>\n",
       "</div>"
      ],
      "text/plain": [
       "                                      Description  idCat  yesIT\n",
       "Cnid                                                           \n",
       "CN3348181             Program Management Services     17      1\n",
       "CN3110212  Distributed Computing Central Services     14      1\n",
       "CN3442793                 Automated Test Engineer     13      1\n",
       "CN3422590                       Software Services     28      1\n",
       "CN3428960                               VC System     43      1"
      ]
     },
     "execution_count": 32,
     "metadata": {},
     "output_type": "execute_result"
    }
   ],
   "source": [
    "df_test.head()"
   ]
  },
  {
   "cell_type": "code",
   "execution_count": 33,
   "metadata": {
    "scrolled": true
   },
   "outputs": [
    {
     "name": "stderr",
     "output_type": "stream",
     "text": [
      "C:\\Anaconda3\\lib\\site-packages\\ipykernel_launcher.py:1: SettingWithCopyWarning: \n",
      "A value is trying to be set on a copy of a slice from a DataFrame\n",
      "\n",
      "See the caveats in the documentation: http://pandas.pydata.org/pandas-docs/stable/indexing.html#indexing-view-versus-copy\n",
      "  \"\"\"Entry point for launching an IPython kernel.\n"
     ]
    }
   ],
   "source": [
    "df_train.yesIT[df_train.idCat.isin([52,99])]=0"
   ]
  },
  {
   "cell_type": "code",
   "execution_count": 34,
   "metadata": {},
   "outputs": [
    {
     "name": "stderr",
     "output_type": "stream",
     "text": [
      "C:\\Anaconda3\\lib\\site-packages\\ipykernel_launcher.py:1: SettingWithCopyWarning: \n",
      "A value is trying to be set on a copy of a slice from a DataFrame\n",
      "\n",
      "See the caveats in the documentation: http://pandas.pydata.org/pandas-docs/stable/indexing.html#indexing-view-versus-copy\n",
      "  \"\"\"Entry point for launching an IPython kernel.\n"
     ]
    }
   ],
   "source": [
    "df_test.yesIT[df_test.idCat.isin([52,99])]=0"
   ]
  },
  {
   "cell_type": "code",
   "execution_count": 35,
   "metadata": {},
   "outputs": [
    {
     "name": "stdout",
     "output_type": "stream",
     "text": [
      "NON-IT           Cnid                                        Description  yesIT  \\\n",
      "289  CN2964562             Project Manager - Questacon Facilities      0   \n",
      "344  CN3281327                               Information Services      0   \n",
      "396  CN3240442  Development of Optimised Usage & Upkeep Cycle ...      0   \n",
      "515  CN3283166  Graphic design services to update marketing an...      0   \n",
      "648  CN3281409                               Labour Hire Services      0   \n",
      "\n",
      "     idCat  \n",
      "289     52  \n",
      "344     52  \n",
      "396     52  \n",
      "515     52  \n",
      "648     52   \n",
      " \n",
      " 45233 \n",
      "\n",
      "IT         Cnid                                        Description  yesIT  idCat\n",
      "0  CN3339767              Development of Data Management System      1     17\n",
      "1  CN3419927                                   Software Upgrade      1     17\n",
      "2  CN3378926                       Specialist Technical Advisor      1     11\n",
      "3  CN3432035  DVA ICTSB 2016/157 - System Analyst - ICT Plan...      1     13\n",
      "4  CN3295947                                       ICT Services      1     17 \n",
      " \n",
      " 43887\n"
     ]
    }
   ],
   "source": [
    "print('NON-IT',\n",
    "    df_train[df_train.yesIT==0].head(),'\\n','\\n',\n",
    "     len(df_train[df_train.yesIT==0]),'\\n')\n",
    "print('IT',df_train[df_train.yesIT==1].head(),'\\n','\\n',\n",
    " len(df_train[df_train.yesIT==1]))"
   ]
  },
  {
   "cell_type": "code",
   "execution_count": 37,
   "metadata": {
    "collapsed": true
   },
   "outputs": [],
   "source": [
    "df_test.to_csv(\"df_test.csv\")"
   ]
  },
  {
   "cell_type": "markdown",
   "metadata": {},
   "source": [
    "### Step2: Normalisation of words - for now just focus on training set. Also apply same transition on test set."
   ]
  },
  {
   "cell_type": "markdown",
   "metadata": {},
   "source": [
    "__ We need to standardise words with the following features: __\n",
    "\n",
    "* retain upper case features for certain words with different meanings when lowercased like ['IT',] - replace with word: infotech as there is no other matches."
   ]
  },
  {
   "cell_type": "markdown",
   "metadata": {},
   "source": [
    "Tokenize each description before lemmatizing them."
   ]
  },
  {
   "cell_type": "code",
   "execution_count": 37,
   "metadata": {},
   "outputs": [
    {
     "data": {
      "text/html": [
       "<div>\n",
       "<style>\n",
       "    .dataframe thead tr:only-child th {\n",
       "        text-align: right;\n",
       "    }\n",
       "\n",
       "    .dataframe thead th {\n",
       "        text-align: left;\n",
       "    }\n",
       "\n",
       "    .dataframe tbody tr th {\n",
       "        vertical-align: top;\n",
       "    }\n",
       "</style>\n",
       "<table border=\"1\" class=\"dataframe\">\n",
       "  <thead>\n",
       "    <tr style=\"text-align: right;\">\n",
       "      <th></th>\n",
       "      <th>Cnid</th>\n",
       "      <th>Description</th>\n",
       "      <th>yesIT</th>\n",
       "      <th>idCat</th>\n",
       "    </tr>\n",
       "  </thead>\n",
       "  <tbody>\n",
       "    <tr>\n",
       "      <th>0</th>\n",
       "      <td>CN3339767</td>\n",
       "      <td>Development of Data Management System</td>\n",
       "      <td>1</td>\n",
       "      <td>17</td>\n",
       "    </tr>\n",
       "    <tr>\n",
       "      <th>1</th>\n",
       "      <td>CN3419927</td>\n",
       "      <td>Software Upgrade</td>\n",
       "      <td>1</td>\n",
       "      <td>17</td>\n",
       "    </tr>\n",
       "    <tr>\n",
       "      <th>2</th>\n",
       "      <td>CN3378926</td>\n",
       "      <td>Specialist Technical Advisor</td>\n",
       "      <td>1</td>\n",
       "      <td>11</td>\n",
       "    </tr>\n",
       "    <tr>\n",
       "      <th>3</th>\n",
       "      <td>CN3432035</td>\n",
       "      <td>DVA ICTSB 2016/157 - System Analyst - ICT Plan...</td>\n",
       "      <td>1</td>\n",
       "      <td>13</td>\n",
       "    </tr>\n",
       "    <tr>\n",
       "      <th>4</th>\n",
       "      <td>CN3295947</td>\n",
       "      <td>ICT Services</td>\n",
       "      <td>1</td>\n",
       "      <td>17</td>\n",
       "    </tr>\n",
       "    <tr>\n",
       "      <th>5</th>\n",
       "      <td>CN3396801</td>\n",
       "      <td>Information retrieval systems</td>\n",
       "      <td>1</td>\n",
       "      <td>29</td>\n",
       "    </tr>\n",
       "    <tr>\n",
       "      <th>6</th>\n",
       "      <td>CN2979762</td>\n",
       "      <td>Printers &amp; Licences</td>\n",
       "      <td>1</td>\n",
       "      <td>8</td>\n",
       "    </tr>\n",
       "    <tr>\n",
       "      <th>7</th>\n",
       "      <td>CN3421256</td>\n",
       "      <td>Laptops - high end</td>\n",
       "      <td>1</td>\n",
       "      <td>4</td>\n",
       "    </tr>\n",
       "    <tr>\n",
       "      <th>8</th>\n",
       "      <td>CN3330935</td>\n",
       "      <td>Provision of Electronic Hardware and Component...</td>\n",
       "      <td>1</td>\n",
       "      <td>14</td>\n",
       "    </tr>\n",
       "    <tr>\n",
       "      <th>9</th>\n",
       "      <td>CN3318967-A1</td>\n",
       "      <td>Provision of IT Contractor Services</td>\n",
       "      <td>1</td>\n",
       "      <td>13</td>\n",
       "    </tr>\n",
       "  </tbody>\n",
       "</table>\n",
       "</div>"
      ],
      "text/plain": [
       "           Cnid                                        Description  yesIT  \\\n",
       "0     CN3339767              Development of Data Management System      1   \n",
       "1     CN3419927                                   Software Upgrade      1   \n",
       "2     CN3378926                       Specialist Technical Advisor      1   \n",
       "3     CN3432035  DVA ICTSB 2016/157 - System Analyst - ICT Plan...      1   \n",
       "4     CN3295947                                       ICT Services      1   \n",
       "5     CN3396801                      Information retrieval systems      1   \n",
       "6     CN2979762                                Printers & Licences      1   \n",
       "7     CN3421256                                 Laptops - high end      1   \n",
       "8     CN3330935  Provision of Electronic Hardware and Component...      1   \n",
       "9  CN3318967-A1                Provision of IT Contractor Services      1   \n",
       "\n",
       "   idCat  \n",
       "0     17  \n",
       "1     17  \n",
       "2     11  \n",
       "3     13  \n",
       "4     17  \n",
       "5     29  \n",
       "6      8  \n",
       "7      4  \n",
       "8     14  \n",
       "9     13  "
      ]
     },
     "execution_count": 37,
     "metadata": {},
     "output_type": "execute_result"
    }
   ],
   "source": [
    "df_train.head(10)"
   ]
  },
  {
   "cell_type": "code",
   "execution_count": 38,
   "metadata": {
    "collapsed": true
   },
   "outputs": [],
   "source": [
    "# replace 'IT' with 'infotech'\n",
    "IT_regex = r'(?<=(\\b))IT(?=(\\b))'\n",
    "df_train.Description = df_train.Description.str.replace(IT_regex, 'infotech',case=True)"
   ]
  },
  {
   "cell_type": "code",
   "execution_count": 39,
   "metadata": {
    "scrolled": true
   },
   "outputs": [
    {
     "name": "stdout",
     "output_type": "stream",
     "text": [
      "Cnid           3420\n",
      "Description    3420\n",
      "yesIT          3420\n",
      "idCat          3420\n",
      "dtype: int64\n",
      "Cnid           453\n",
      "Description    453\n",
      "yesIT          453\n",
      "idCat          453\n",
      "dtype: int64\n",
      "Empty DataFrame\n",
      "Columns: [Cnid, Description, yesIT, idCat]\n",
      "Index: []\n"
     ]
    }
   ],
   "source": [
    "# make sure no IT is missed.\n",
    "print(df_train[df_train.Description.str.contains('infotech')].count())\n",
    "print(df_train[df_train.Description.str.contains('IT')].count())\n",
    "print(df_train[df_train.Description.str.contains(' IT ')].head())"
   ]
  },
  {
   "cell_type": "code",
   "execution_count": 40,
   "metadata": {},
   "outputs": [
    {
     "data": {
      "text/html": [
       "<div>\n",
       "<style>\n",
       "    .dataframe thead tr:only-child th {\n",
       "        text-align: right;\n",
       "    }\n",
       "\n",
       "    .dataframe thead th {\n",
       "        text-align: left;\n",
       "    }\n",
       "\n",
       "    .dataframe tbody tr th {\n",
       "        vertical-align: top;\n",
       "    }\n",
       "</style>\n",
       "<table border=\"1\" class=\"dataframe\">\n",
       "  <thead>\n",
       "    <tr style=\"text-align: right;\">\n",
       "      <th></th>\n",
       "      <th>Cnid</th>\n",
       "      <th>Description</th>\n",
       "      <th>yesIT</th>\n",
       "      <th>idCat</th>\n",
       "    </tr>\n",
       "  </thead>\n",
       "  <tbody>\n",
       "    <tr>\n",
       "      <th>0</th>\n",
       "      <td>CN3339767</td>\n",
       "      <td>Development of Data Management System</td>\n",
       "      <td>1</td>\n",
       "      <td>17</td>\n",
       "    </tr>\n",
       "    <tr>\n",
       "      <th>1</th>\n",
       "      <td>CN3419927</td>\n",
       "      <td>Software Upgrade</td>\n",
       "      <td>1</td>\n",
       "      <td>17</td>\n",
       "    </tr>\n",
       "    <tr>\n",
       "      <th>2</th>\n",
       "      <td>CN3378926</td>\n",
       "      <td>Specialist Technical Advisor</td>\n",
       "      <td>1</td>\n",
       "      <td>11</td>\n",
       "    </tr>\n",
       "    <tr>\n",
       "      <th>3</th>\n",
       "      <td>CN3432035</td>\n",
       "      <td>DVA ICTSB 2016/157 - System Analyst - ICT Plan...</td>\n",
       "      <td>1</td>\n",
       "      <td>13</td>\n",
       "    </tr>\n",
       "    <tr>\n",
       "      <th>4</th>\n",
       "      <td>CN3295947</td>\n",
       "      <td>ICT Services</td>\n",
       "      <td>1</td>\n",
       "      <td>17</td>\n",
       "    </tr>\n",
       "  </tbody>\n",
       "</table>\n",
       "</div>"
      ],
      "text/plain": [
       "        Cnid                                        Description  yesIT  idCat\n",
       "0  CN3339767              Development of Data Management System      1     17\n",
       "1  CN3419927                                   Software Upgrade      1     17\n",
       "2  CN3378926                       Specialist Technical Advisor      1     11\n",
       "3  CN3432035  DVA ICTSB 2016/157 - System Analyst - ICT Plan...      1     13\n",
       "4  CN3295947                                       ICT Services      1     17"
      ]
     },
     "execution_count": 40,
     "metadata": {},
     "output_type": "execute_result"
    }
   ],
   "source": [
    "# change the index to CNID to ensure easy tracking.\n",
    "df_train.head()"
   ]
  },
  {
   "cell_type": "code",
   "execution_count": 41,
   "metadata": {},
   "outputs": [
    {
     "data": {
      "text/html": [
       "<div>\n",
       "<style>\n",
       "    .dataframe thead tr:only-child th {\n",
       "        text-align: right;\n",
       "    }\n",
       "\n",
       "    .dataframe thead th {\n",
       "        text-align: left;\n",
       "    }\n",
       "\n",
       "    .dataframe tbody tr th {\n",
       "        vertical-align: top;\n",
       "    }\n",
       "</style>\n",
       "<table border=\"1\" class=\"dataframe\">\n",
       "  <thead>\n",
       "    <tr style=\"text-align: right;\">\n",
       "      <th></th>\n",
       "      <th>Description</th>\n",
       "      <th>yesIT</th>\n",
       "      <th>idCat</th>\n",
       "    </tr>\n",
       "    <tr>\n",
       "      <th>Cnid</th>\n",
       "      <th></th>\n",
       "      <th></th>\n",
       "      <th></th>\n",
       "    </tr>\n",
       "  </thead>\n",
       "  <tbody>\n",
       "    <tr>\n",
       "      <th>CN3339767</th>\n",
       "      <td>Development of Data Management System</td>\n",
       "      <td>1</td>\n",
       "      <td>17</td>\n",
       "    </tr>\n",
       "    <tr>\n",
       "      <th>CN3419927</th>\n",
       "      <td>Software Upgrade</td>\n",
       "      <td>1</td>\n",
       "      <td>17</td>\n",
       "    </tr>\n",
       "    <tr>\n",
       "      <th>CN3378926</th>\n",
       "      <td>Specialist Technical Advisor</td>\n",
       "      <td>1</td>\n",
       "      <td>11</td>\n",
       "    </tr>\n",
       "    <tr>\n",
       "      <th>CN3432035</th>\n",
       "      <td>DVA ICTSB 2016/157 - System Analyst - ICT Plan...</td>\n",
       "      <td>1</td>\n",
       "      <td>13</td>\n",
       "    </tr>\n",
       "    <tr>\n",
       "      <th>CN3295947</th>\n",
       "      <td>ICT Services</td>\n",
       "      <td>1</td>\n",
       "      <td>17</td>\n",
       "    </tr>\n",
       "  </tbody>\n",
       "</table>\n",
       "</div>"
      ],
      "text/plain": [
       "                                                 Description  yesIT  idCat\n",
       "Cnid                                                                      \n",
       "CN3339767              Development of Data Management System      1     17\n",
       "CN3419927                                   Software Upgrade      1     17\n",
       "CN3378926                       Specialist Technical Advisor      1     11\n",
       "CN3432035  DVA ICTSB 2016/157 - System Analyst - ICT Plan...      1     13\n",
       "CN3295947                                       ICT Services      1     17"
      ]
     },
     "execution_count": 41,
     "metadata": {},
     "output_type": "execute_result"
    }
   ],
   "source": [
    "df_train.index = df_train.Cnid\n",
    "df_train.drop(['Cnid'],axis =1,inplace=True)\n",
    "df_train.head()"
   ]
  },
  {
   "cell_type": "code",
   "execution_count": 42,
   "metadata": {
    "collapsed": true
   },
   "outputs": [],
   "source": [
    "df_train.to_csv('df_train.csv')"
   ]
  },
  {
   "cell_type": "markdown",
   "metadata": {},
   "source": [
    "### We extract description column to process before joining back to the dataframe."
   ]
  },
  {
   "cell_type": "markdown",
   "metadata": {},
   "source": [
    "Lemmatization considers upper case as special terminologies, so still lower cased every thing."
   ]
  },
  {
   "cell_type": "code",
   "execution_count": 43,
   "metadata": {},
   "outputs": [
    {
     "data": {
      "text/plain": [
       "Cnid\n",
       "CN3339767          [development, of, data, management, system]\n",
       "CN3419927                                  [software, upgrade]\n",
       "CN3378926                     [specialist, technical, advisor]\n",
       "CN3432035    [dva, ictsb, system, analyst, ict, planning, a...\n",
       "CN3295947                                      [ict, services]\n",
       "Name: Description, dtype: object"
      ]
     },
     "execution_count": 43,
     "metadata": {},
     "output_type": "execute_result"
    }
   ],
   "source": [
    "# before tokenize, replace all non-alpha numeric characters with a space.\n",
    "regex2 = r'[^a-zA-Z]'\n",
    "df_train.Description = df_train.Description.str.replace(regex2,' ',case=True)\n",
    "\n",
    "# tokenize sentences.\n",
    "title_tokenised = df_train.Description.str.lower().apply(nltk.word_tokenize)\n",
    "title_tokenised.head()"
   ]
  },
  {
   "cell_type": "code",
   "execution_count": 44,
   "metadata": {
    "collapsed": true
   },
   "outputs": [],
   "source": [
    "# Create function to Lemmatize each entry but do not return to sentence.\n",
    "def lem_cont(tokens):\n",
    "    wnl = nltk.WordNetLemmatizer()\n",
    "    lemmed = [wnl.lemmatize(t) for t in tokens]\n",
    "    return lemmed"
   ]
  },
  {
   "cell_type": "code",
   "execution_count": 45,
   "metadata": {
    "collapsed": true
   },
   "outputs": [],
   "source": [
    "title_token_lem = title_tokenised.apply(lem_cont)"
   ]
  },
  {
   "cell_type": "code",
   "execution_count": 46,
   "metadata": {
    "scrolled": true
   },
   "outputs": [
    {
     "data": {
      "text/plain": [
       "Cnid\n",
       "CN3339767          [development, of, data, management, system]\n",
       "CN3419927                                  [software, upgrade]\n",
       "CN3378926                     [specialist, technical, advisor]\n",
       "CN3432035    [dva, ictsb, system, analyst, ict, planning, a...\n",
       "CN3295947                                       [ict, service]\n",
       "Name: Description, dtype: object"
      ]
     },
     "execution_count": 46,
     "metadata": {},
     "output_type": "execute_result"
    }
   ],
   "source": [
    "title_token_lem.head()"
   ]
  },
  {
   "cell_type": "code",
   "execution_count": 47,
   "metadata": {
    "collapsed": true
   },
   "outputs": [],
   "source": [
    "# export token lem\n",
    "title_token_lem.to_csv('title_token_lem.csv',header='x_train_token_lem')"
   ]
  },
  {
   "cell_type": "raw",
   "metadata": {},
   "source": [
    "# trial: apply lemmatizer to a simple list of words.\n",
    "#print([nltk.WordNetLemmatizer().lemmatize(x) for x in ['Provision','Services','services','infotech','info']])"
   ]
  },
  {
   "cell_type": "markdown",
   "metadata": {},
   "source": [
    "> Try Stemming\n",
    "\n",
    "> following code is raw text so that they are not executed"
   ]
  },
  {
   "cell_type": "raw",
   "metadata": {},
   "source": [
    "from nltk.stem.snowball import EnglishStemmer\n",
    "snowball_stemmer = EnglishStemmer()"
   ]
  },
  {
   "cell_type": "raw",
   "metadata": {},
   "source": [
    "def stem_cont(tokens):\n",
    "    '''Stem each word in the list and re-assemble them.'''\n",
    "    stemmed = ' '.join([snowball_stemmer.stem(t) for t in tokens])\n",
    "    return stemmed\n",
    "stemmed = title_tokenised.apply(stem_cont)\n",
    "print(stemmed.head())\n",
    "type(stemmed)"
   ]
  },
  {
   "cell_type": "raw",
   "metadata": {},
   "source": [
    "print([snowball_stemmer.stem(x) for x in ['Provision','provide','Services','infotech','IT']])"
   ]
  },
  {
   "cell_type": "markdown",
   "metadata": {},
   "source": [
    "## Step3: Removal of stop words, non-aphabetic characters"
   ]
  },
  {
   "cell_type": "markdown",
   "metadata": {},
   "source": [
    "> start by loading the 'title_lemtoken.csv' that contains the tokenised entries.\n",
    "\n",
    "Remove: stop words, numbers, punctuations."
   ]
  },
  {
   "cell_type": "code",
   "execution_count": 48,
   "metadata": {
    "collapsed": true
   },
   "outputs": [],
   "source": [
    "from nltk.corpus import stopwords"
   ]
  },
  {
   "cell_type": "code",
   "execution_count": 49,
   "metadata": {
    "collapsed": true
   },
   "outputs": [],
   "source": [
    "def removestopword(text):\n",
    "    stopwremoved = [w for w in text if not w in stopwords.words('english')]\n",
    "    return stopwremoved"
   ]
  },
  {
   "cell_type": "code",
   "execution_count": 50,
   "metadata": {
    "collapsed": true
   },
   "outputs": [],
   "source": [
    "title_token_lem_nostopword = title_token_lem.apply(removestopword)"
   ]
  },
  {
   "cell_type": "code",
   "execution_count": 51,
   "metadata": {},
   "outputs": [
    {
     "data": {
      "text/plain": [
       "Cnid\n",
       "CN3339767              [development, data, management, system]\n",
       "CN3419927                                  [software, upgrade]\n",
       "CN3378926                     [specialist, technical, advisor]\n",
       "CN3432035    [dva, ictsb, system, analyst, ict, planning, b...\n",
       "CN3295947                                       [ict, service]\n",
       "Name: Description, dtype: object"
      ]
     },
     "execution_count": 51,
     "metadata": {},
     "output_type": "execute_result"
    }
   ],
   "source": [
    "title_token_lem_nostopword.head()"
   ]
  },
  {
   "cell_type": "markdown",
   "metadata": {},
   "source": [
    "## Step4: join the tokens back together for storing as well as sklearn process."
   ]
  },
  {
   "cell_type": "code",
   "execution_count": 52,
   "metadata": {
    "collapsed": true
   },
   "outputs": [],
   "source": [
    "# save to disk title_lem_nostop as csv - so next time can start from here.\n",
    "#title_lem_nostop.to_excel(excel_writer='title_lem_nostop.xlsx',header='x_train_token_lem')\n",
    "title_token_lem_nostopword.to_csv('title_token_lem_nostopword.csv',header='x_train_token_lem')\n",
    "y_trainval = df_train.yesIT\n",
    "y_trainval.to_csv('y_trainval.csv',header = 'yesIT')"
   ]
  },
  {
   "cell_type": "code",
   "execution_count": 57,
   "metadata": {},
   "outputs": [
    {
     "data": {
      "text/plain": [
       "pandas.core.series.Series"
      ]
     },
     "execution_count": 57,
     "metadata": {},
     "output_type": "execute_result"
    }
   ],
   "source": [
    "type(y_trainval)"
   ]
  },
  {
   "cell_type": "code",
   "execution_count": 58,
   "metadata": {},
   "outputs": [
    {
     "data": {
      "text/plain": [
       "0    45233\n",
       "1    43887\n",
       "Name: yesIT, dtype: int64"
      ]
     },
     "execution_count": 58,
     "metadata": {},
     "output_type": "execute_result"
    }
   ],
   "source": [
    "y_trainval.value_counts()"
   ]
  },
  {
   "cell_type": "markdown",
   "metadata": {},
   "source": [
    "## Produce result csv for next stage processing. - This result requires further lemmatization and TFIDF transformation."
   ]
  },
  {
   "cell_type": "code",
   "execution_count": 53,
   "metadata": {
    "collapsed": true
   },
   "outputs": [],
   "source": [
    "x_trainval = title_token_lem_nostopword.apply(lambda w: ' '.join(w)) # join rows together to make a long string."
   ]
  },
  {
   "cell_type": "code",
   "execution_count": 54,
   "metadata": {},
   "outputs": [
    {
     "data": {
      "text/plain": [
       "Cnid\n",
       "CN3339767                   development data management system\n",
       "CN3419927                                     software upgrade\n",
       "CN3378926                         specialist technical advisor\n",
       "CN3432035    dva ictsb system analyst ict planning business...\n",
       "CN3295947                                          ict service\n",
       "Name: Description, dtype: object"
      ]
     },
     "execution_count": 54,
     "metadata": {},
     "output_type": "execute_result"
    }
   ],
   "source": [
    "x_trainval.head()"
   ]
  },
  {
   "cell_type": "code",
   "execution_count": 55,
   "metadata": {
    "collapsed": true
   },
   "outputs": [],
   "source": [
    "x_trainval.to_csv('x_trainval.csv',header='lemnostopwDesc')"
   ]
  }
 ],
 "metadata": {
  "kernelspec": {
   "display_name": "Python 3",
   "language": "python",
   "name": "python3"
  },
  "language_info": {
   "codemirror_mode": {
    "name": "ipython",
    "version": 3
   },
   "file_extension": ".py",
   "mimetype": "text/x-python",
   "name": "python",
   "nbconvert_exporter": "python",
   "pygments_lexer": "ipython3",
   "version": "3.6.3"
  }
 },
 "nbformat": 4,
 "nbformat_minor": 2
}
