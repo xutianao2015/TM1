{
 "cells": [
  {
   "cell_type": "markdown",
   "metadata": {},
   "source": [
    "## Step6: Training Model based on training and validation set."
   ]
  },
  {
   "cell_type": "markdown",
   "metadata": {},
   "source": [
    "Random Forest Classifier generally does not require CV so combine train validation set."
   ]
  },
  {
   "cell_type": "code",
   "execution_count": 1,
   "metadata": {
    "collapsed": true
   },
   "outputs": [],
   "source": [
    "import numpy as np\n",
    "import pandas as pd\n",
    "from sklearn.ensemble import RandomForestClassifier\n",
    "import pickle\n",
    "from sklearn.externals import joblib\n",
    "import datetime as dt\n",
    "import time\n",
    "import matplotlib.pyplot as plt\n",
    "from sklearn.feature_extraction.text import TfidfVectorizer"
   ]
  },
  {
   "cell_type": "code",
   "execution_count": 2,
   "metadata": {
    "scrolled": false
   },
   "outputs": [
    {
     "name": "stdout",
     "output_type": "stream",
     "text": [
      "        Cnid                         Description\n",
      "0  CN3339767  development data management system\n",
      "1  CN3419927                    software upgrade\n",
      "2  CN3378926        specialist technical advisor\n",
      "        Cnid  yesIT\n",
      "0  CN3339767      1\n",
      "1  CN3419927      1\n",
      "2  CN3378926      1\n",
      "(89120, 2)\n",
      "(89120, 2)\n"
     ]
    }
   ],
   "source": [
    "#load data. no need for CV so just training data.\n",
    "x_trainval = pd.read_csv('x_trainval.csv') # Training and validation dataset.\n",
    "y_trainval = pd.read_csv('y_trainval.csv')\n",
    "print(x_trainval.head(3))\n",
    "print(y_trainval.head(3))\n",
    "print(x_trainval.shape)\n",
    "print(y_trainval.shape)"
   ]
  },
  {
   "cell_type": "code",
   "execution_count": 3,
   "metadata": {
    "collapsed": true
   },
   "outputs": [],
   "source": [
    "# then we turn cnid column into index so that x and y would match. Maybe not necessary?\n",
    "x_trainval.index = x_trainval['Cnid']\n",
    "x_trainval.drop(['Cnid'],axis=1,inplace=True)\n",
    "y_trainval.index = y_trainval['Cnid']\n",
    "y_trainval.drop(['Cnid'],axis=1,inplace=True)"
   ]
  },
  {
   "cell_type": "code",
   "execution_count": 4,
   "metadata": {},
   "outputs": [
    {
     "name": "stdout",
     "output_type": "stream",
     "text": [
      "(89120, 1)\n",
      "(89120, 1)\n"
     ]
    }
   ],
   "source": [
    "print(x_trainval.shape)\n",
    "print(y_trainval.shape)"
   ]
  },
  {
   "cell_type": "code",
   "execution_count": 5,
   "metadata": {},
   "outputs": [
    {
     "data": {
      "text/plain": [
       "Index(['CN3339767', 'CN3419927', 'CN3378926', 'CN3432035', 'CN3295947',\n",
       "       'CN3396801', 'CN2979762', 'CN3421256', 'CN3330935', 'CN3318967-A1',\n",
       "       ...\n",
       "       'CN3457863', 'CN3385378', 'CN3428351', 'CN3445544', 'CN3028072',\n",
       "       'CN3320700', 'CN3440890', 'CN3369479-A1', 'CN3212192', 'CN3304727'],\n",
       "      dtype='object', name='Cnid', length=89120)"
      ]
     },
     "execution_count": 5,
     "metadata": {},
     "output_type": "execute_result"
    }
   ],
   "source": [
    "y_trainval.index"
   ]
  },
  {
   "cell_type": "code",
   "execution_count": 6,
   "metadata": {
    "collapsed": true
   },
   "outputs": [],
   "source": [
    "x_trainval.Description.fillna(value=\"NoDesc\",inplace=True)"
   ]
  },
  {
   "cell_type": "code",
   "execution_count": 7,
   "metadata": {
    "collapsed": true
   },
   "outputs": [],
   "source": [
    "tfidf_vectorizer = TfidfVectorizer(analyzer='word',ngram_range=(1,2))\n",
    "tfidf = tfidf_vectorizer.fit_transform(x_trainval[\"Description\"])"
   ]
  },
  {
   "cell_type": "code",
   "execution_count": 8,
   "metadata": {
    "scrolled": true
   },
   "outputs": [
    {
     "name": "stdout",
     "output_type": "stream",
     "text": [
      "<class 'scipy.sparse.csr.csr_matrix'>\n",
      "  (0, 20362)\t0.28173423084\n",
      "  (0, 18063)\t0.290783226673\n",
      "  (0, 42647)\t0.237070766278\n",
      "  (0, 74235)\t0.249500151534\n",
      "  (0, 20434)\t0.599921351426\n",
      "  (0, 18215)\t0.466917255185\n",
      "  (0, 42914)\t0.373765586073\n",
      "  (1, 68901)\t0.353904836993\n",
      "  (1, 79186)\t0.546761286164\n",
      "  (1, 69166)\t0.758817146818\n",
      "['aa', 'aa accessibility', 'aa compliant', 'aa installation', 'aa redesigned', 'aa rp', 'aa size', 'aa spare', 'aaa', 'aaa industry', 'aab', 'aab pull', 'aabd', 'aacap', 'aacap camp', 'aacqa', 'aacqa victoria', 'aad', 'aad aerial', 'aad ageing', 'aad kingston', 'aad maximo', 'aad record', 'aad share', 'aaf', 'aaf av', 'aaf publication', 'aaf registration', 'aafc', 'aafc sxpl', 'aafcans', 'aage', 'aage conference', 'aagis', 'aagis grain', 'aahl', 'aahl victoria', 'aahu', 'aahu grant', 'aahu text', 'aams', 'aams lawyer', 'aams probity', 'aams security', 'aapa', 'aapa certificate', 'aapg', 'aapg seg', 'aapt', 'aarnet', 'aarnet internet', 'aarnet wireless', 'aaron', 'aaron davis', 'aaru', 'aaru men', 'aasam', 'aasb', 'aasb auasb', 'aasb price', 'aasn', 'aasn busy', 'aasn jobnet', 'aasn megt', 'aasn sarina', 'aasn top', 'aat', 'aat administered', 'aat april', 'aat asset', 'aat case', 'aat matter', 'aat participating', 'aat progam', 'aat registrar', 'aat sccm', 'aate', 'aate array', 'aato', 'aato office', 'aaviation', 'aaviation screening', 'aavntc', 'aavntc new', 'ab', 'ab auditorium', 'ab backup', 'ab business', 'ab centre', 'ab contingent', 'ab data', 'ab database', 'ab determination', 'ab document', 'ab gateway', 'ab geelong', 'ab house', 'ab idea', 'ab next']\n"
     ]
    }
   ],
   "source": [
    "print(type(tfidf))\n",
    "print(tfidf)\n",
    "print(tfidf_vectorizer.get_feature_names()[:99])"
   ]
  },
  {
   "cell_type": "code",
   "execution_count": 9,
   "metadata": {},
   "outputs": [
    {
     "name": "stdout",
     "output_type": "stream",
     "text": [
      "training....\n",
      "start time:11:17:27.908918\n"
     ]
    },
    {
     "name": "stderr",
     "output_type": "stream",
     "text": [
      "C:\\Anaconda3\\lib\\site-packages\\ipykernel_launcher.py:7: DataConversionWarning: A column-vector y was passed when a 1d array was expected. Please change the shape of y to (n_samples,), for example using ravel().\n",
      "  import sys\n"
     ]
    },
    {
     "name": "stdout",
     "output_type": "stream",
     "text": [
      "Training completed.\n",
      "end time:11:52:19.132521\n",
      "Time Spent.\n",
      "2091.2236034870148\n"
     ]
    }
   ],
   "source": [
    "# optiplex 8 core processor\n",
    "clf = RandomForestClassifier(n_estimators=800,criterion='gini',n_jobs =-1,random_state =1)\n",
    "\n",
    "start_time = time.time()\n",
    "print(\"training....\"); print(\"start time:\" + str(dt.datetime.now().time()))\n",
    "\n",
    "clf.fit(tfidf,y_trainval)\n",
    "print(\"Training completed.\"); print(\"end time:\" + str(dt.datetime.now().time()))\n",
    "print(\"Time Spent.\"); print(time.time() - start_time)"
   ]
  },
  {
   "cell_type": "code",
   "execution_count": 10,
   "metadata": {},
   "outputs": [
    {
     "data": {
      "text/plain": [
       "['RandomForestv2.pkl']"
      ]
     },
     "execution_count": 10,
     "metadata": {},
     "output_type": "execute_result"
    }
   ],
   "source": [
    "# save the model to pickle\n",
    "joblib.dump(clf,'RandomForestv2.pkl')"
   ]
  },
  {
   "cell_type": "markdown",
   "metadata": {},
   "source": [
    "## Figuring out the discrepencies in the existing training set."
   ]
  },
  {
   "cell_type": "code",
   "execution_count": null,
   "metadata": {
    "collapsed": true
   },
   "outputs": [],
   "source": []
  },
  {
   "cell_type": "code",
   "execution_count": 18,
   "metadata": {
    "collapsed": true
   },
   "outputs": [],
   "source": [
    "# measure new dataset. \n",
    "y_train_fit = clf.predict(tfidf) # the transformed matrix to fit."
   ]
  },
  {
   "cell_type": "code",
   "execution_count": 19,
   "metadata": {
    "collapsed": true
   },
   "outputs": [],
   "source": [
    "from sklearn.metrics import classification_report\n",
    "from sklearn.metrics import confusion_matrix"
   ]
  },
  {
   "cell_type": "code",
   "execution_count": 20,
   "metadata": {},
   "outputs": [
    {
     "data": {
      "text/plain": [
       "89120"
      ]
     },
     "execution_count": 20,
     "metadata": {},
     "output_type": "execute_result"
    }
   ],
   "source": [
    "# fit data set and get accuracy, confusion matrix.\n",
    "# firstly need to tfidf transform test data set into sparse matrix.\n",
    "len(y_train_fit)"
   ]
  },
  {
   "cell_type": "code",
   "execution_count": 21,
   "metadata": {},
   "outputs": [
    {
     "name": "stdout",
     "output_type": "stream",
     "text": [
      "             precision    recall  f1-score   support\n",
      "\n",
      "          0       0.97      0.96      0.97     45858\n",
      "          1       0.96      0.97      0.96     43262\n",
      "\n",
      "avg / total       0.97      0.97      0.97     89120\n",
      "\n"
     ]
    }
   ],
   "source": [
    "print(classification_report(y_train_fit,y_trainval))"
   ]
  },
  {
   "cell_type": "markdown",
   "metadata": {},
   "source": [
    "## Transforming df_test to compare results."
   ]
  },
  {
   "cell_type": "markdown",
   "metadata": {},
   "source": [
    "    need to define a funtion to do the steps of stemming and stopword removal and reconstructing as a input."
   ]
  },
  {
   "cell_type": "markdown",
   "metadata": {},
   "source": [
    "Since df_test is not lemmatised, we need to do Step2-4 in CH2.\n",
    "\n",
    "# #not finished"
   ]
  },
  {
   "cell_type": "code",
   "execution_count": 11,
   "metadata": {
    "collapsed": true
   },
   "outputs": [],
   "source": [
    "# the Target DataFrame need to have \"Description\" column. And 'CNID' column.\n",
    "def Cleanstep234(df):\n",
    "    # replace 'IT' with 'infotech'\n",
    "    IT_regex = r'(?<=(\\b))IT(?=(\\b))'\n",
    "    df.Description = df.Description.str.replace(IT_regex, 'infotech',case=True)\n",
    "    df.index = df.Cnid\n",
    "    df.drop(['Cnid'],axis =1,inplace=True)\n",
    "    ###########################################################################################"
   ]
  }
 ],
 "metadata": {
  "kernelspec": {
   "display_name": "Python 3",
   "language": "python",
   "name": "python3"
  },
  "language_info": {
   "codemirror_mode": {
    "name": "ipython",
    "version": 3
   },
   "file_extension": ".py",
   "mimetype": "text/x-python",
   "name": "python",
   "nbconvert_exporter": "python",
   "pygments_lexer": "ipython3",
   "version": "3.6.3"
  }
 },
 "nbformat": 4,
 "nbformat_minor": 2
}
